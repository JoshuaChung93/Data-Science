{
  "metadata": {
    "language_info": {
      "codemirror_mode": {
        "name": "python",
        "version": 3
      },
      "file_extension": ".py",
      "mimetype": "text/x-python",
      "name": "python",
      "nbconvert_exporter": "python",
      "pygments_lexer": "ipython3",
      "version": "3.8"
    },
    "kernelspec": {
      "name": "python",
      "display_name": "Pyolite",
      "language": "python"
    },
    "colab": {
      "provenance": [],
      "include_colab_link": true
    }
  },
  "nbformat_minor": 0,
  "nbformat": 4,
  "cells": [
    {
      "cell_type": "markdown",
      "metadata": {
        "id": "view-in-github",
        "colab_type": "text"
      },
      "source": [
        "<a href=\"https://colab.research.google.com/github/JoshuaChung93/Data-Science/blob/main/Copy_of_IBMDeveloperSkillsNetwork_ML0101EN_SkillsNetwork_labs_Module_6_DS_8_Assignment_jupyterlite.ipynb\" target=\"_parent\"><img src=\"https://colab.research.google.com/assets/colab-badge.svg\" alt=\"Open In Colab\"/></a>"
      ]
    },
    {
      "cell_type": "markdown",
      "source": [
        "<p style=\"text-align:center\">\n",
        "    <a href=\"https://skills.network/?utm_medium=Exinfluencer&utm_source=Exinfluencer&utm_content=000026UJ&utm_term=10006555&utm_id=NA-SkillsNetwork-Channel-SkillsNetworkCoursesIBMDeveloperSkillsNetworkML0101ENSkillsNetwork20718538-2022-01-01\" target=\"_blank\">\n",
        "    <img src=\"https://cf-courses-data.s3.us.cloud-object-storage.appdomain.cloud/assets/logos/SN_web_lightmode.png\" width=\"200\" alt=\"Skills Network Logo\"  />\n",
        "    </a>\n",
        "</p>\n",
        "\n",
        "# Classification with Python\n",
        "\n",
        "Estimated time needed: **25** minutes\n",
        "\n",
        "## Objectives\n",
        "\n",
        "After completing this lab you will be able to:\n",
        "\n",
        "*   Confidently create classification models\n"
      ],
      "metadata": {
        "id": "3ixTaq3tHAB0"
      }
    },
    {
      "cell_type": "markdown",
      "source": [
        "In this notebook we try to practice all the classification algorithms that we learned in this course.\n",
        "\n",
        "We load a dataset using Pandas library, apply the following algorithms, and find the best one for this specific dataset by accuracy evaluation methods.\n",
        "\n",
        "Let's first load required libraries:\n"
      ],
      "metadata": {
        "id": "KvthkmeFHAB1"
      }
    },
    {
      "cell_type": "code",
      "source": [
        "import itertools\n",
        "import numpy as np\n",
        "import matplotlib.pyplot as plt\n",
        "from matplotlib.ticker import NullFormatter\n",
        "import pandas as pd\n",
        "import numpy as np\n",
        "import matplotlib.ticker as ticker\n",
        "from sklearn import preprocessing\n",
        "%matplotlib inline"
      ],
      "metadata": {
        "trusted": true,
        "id": "8UrfN749HAB1"
      },
      "execution_count": null,
      "outputs": []
    },
    {
      "cell_type": "markdown",
      "source": [
        "### About dataset\n"
      ],
      "metadata": {
        "id": "g6p_QxF9HAB2"
      }
    },
    {
      "cell_type": "markdown",
      "source": [
        "This dataset is about the performance of basketball teams. The **cbb.csv** data set includes performance data about five seasons of 354 basketball teams. It includes the following fields:\n",
        "\n",
        "| Field      | Description                                                                                                                                                                                                                                                                                                                                                                                                                                                                                                                                                                                                                                                                                                                                                                                                                                                                    |\n",
        "| ---------- | ------------------------------------------------------------------------------------------------------------------------------------------------------------------------------------------------------------------------------------------------------------------------------------------------------------------------------------------------------------------------------------------------------------------------------------------------------------------------------------------------------------------------------------------------------------------------------------------------------------------------------------------------------------------------------------------------------------------------------------------------------------------------------------------------------------------------------------------------------------------------------ |\n",
        "| TEAM       | The Division I college basketball school                                                                                                                                                                                                                                                                                                                                                                                                                                                                                                                                                                                                                                                                                                                                                                                                                                       |\n",
        "| CONF       | The Athletic Conference in which the school participates in (A10 = Atlantic 10, ACC = Atlantic Coast Conference, AE = America East, Amer = American, ASun = ASUN, B10 = Big Ten, B12 = Big 12, BE = Big East, BSky = Big Sky, BSth = Big South, BW = Big West, CAA = Colonial Athletic Association, CUSA = Conference USA, Horz = Horizon League, Ivy = Ivy League, MAAC = Metro Atlantic Athletic Conference, MAC = Mid-American Conference, MEAC = Mid-Eastern Athletic Conference, MVC = Missouri Valley Conference, MWC = Mountain West, NEC = Northeast Conference, OVC = Ohio Valley Conference, P12 = Pac-12, Pat = Patriot League, SB = Sun Belt, SC = Southern Conference, SEC = South Eastern Conference, Slnd = Southland Conference, Sum = Summit League, SWAC = Southwestern Athletic Conference, WAC = Western Athletic Conference, WCC = West Coast Conference) |\n",
        "| G          | Number of games played                                                                                                                                                                                                                                                                                                                                                                                                                                                                                                                                                                                                                                                                                                                                                                                                                                                         |\n",
        "| W          | Number of games won                                                                                                                                                                                                                                                                                                                                                                                                                                                                                                                                                                                                                                                                                                                                                                                                                                                            |\n",
        "| ADJOE      | Adjusted Offensive Efficiency (An estimate of the offensive efficiency (points scored per 100 possessions) a team would have against the average Division I defense)                                                                                                                                                                                                                                                                                                                                                                                                                                                                                                                                                                                                                                                                                                           |\n",
        "| ADJDE      | Adjusted Defensive Efficiency (An estimate of the defensive efficiency (points allowed per 100 possessions) a team would have against the average Division I offense)                                                                                                                                                                                                                                                                                                                                                                                                                                                                                                                                                                                                                                                                                                          |\n",
        "| BARTHAG    | Power Rating (Chance of beating an average Division I team)                                                                                                                                                                                                                                                                                                                                                                                                                                                                                                                                                                                                                                                                                                                                                                                                                    |\n",
        "| EFG_O      | Effective Field Goal Percentage Shot                                                                                                                                                                                                                                                                                                                                                                                                                                                                                                                                                                                                                                                                                                                                                                                                                                           |\n",
        "| EFG_D      | Effective Field Goal Percentage Allowed                                                                                                                                                                                                                                                                                                                                                                                                                                                                                                                                                                                                                                                                                                                                                                                                                                        |\n",
        "| TOR        | Turnover Percentage Allowed (Turnover Rate)                                                                                                                                                                                                                                                                                                                                                                                                                                                                                                                                                                                                                                                                                                                                                                                                                                    |\n",
        "| TORD       | Turnover Percentage Committed (Steal Rate)                                                                                                                                                                                                                                                                                                                                                                                                                                                                                                                                                                                                                                                                                                                                                                                                                                     |\n",
        "| ORB        | Offensive Rebound Percentage                                                                                                                                                                                                                                                                                                                                                                                                                                                                                                                                                                                                                                                                                                                                                                                                                                                   |\n",
        "| DRB        | Defensive Rebound Percentage                                                                                                                                                                                                                                                                                                                                                                                                                                                                                                                                                                                                                                                                                                                                                                                                                                                   |\n",
        "| FTR        | Free Throw Rate (How often the given team shoots Free Throws)                                                                                                                                                                                                                                                                                                                                                                                                                                                                                                                                                                                                                                                                                                                                                                                                                  |\n",
        "| FTRD       | Free Throw Rate Allowed                                                                                                                                                                                                                                                                                                                                                                                                                                                                                                                                                                                                                                                                                                                                                                                                                                                        |\n",
        "| 2P_O       | Two-Point Shooting Percentage                                                                                                                                                                                                                                                                                                                                                                                                                                                                                                                                                                                                                                                                                                                                                                                                                                                  |\n",
        "| 2P_D       | Two-Point Shooting Percentage Allowed                                                                                                                                                                                                                                                                                                                                                                                                                                                                                                                                                                                                                                                                                                                                                                                                                                          |\n",
        "| 3P_O       | Three-Point Shooting Percentage                                                                                                                                                                                                                                                                                                                                                                                                                                                                                                                                                                                                                                                                                                                                                                                                                                                |\n",
        "| 3P_D       | Three-Point Shooting Percentage Allowed                                                                                                                                                                                                                                                                                                                                                                                                                                                                                                                                                                                                                                                                                                                                                                                                                                        |\n",
        "| ADJ_T      | Adjusted Tempo (An estimate of the tempo (possessions per 40 minutes) a team would have against the team that wants to play at an average Division I tempo)                                                                                                                                                                                                                                                                                                                                                                                                                                                                                                                                                                                                                                                                                                                    |\n",
        "| WAB        | Wins Above Bubble (The bubble refers to the cut off between making the NCAA March Madness Tournament and not making it)                                                                                                                                                                                                                                                                                                                                                                                                                                                                                                                                                                                                                                                                                                                                                        |\n",
        "| POSTSEASON | Round where the given team was eliminated or where their season ended (R68 = First Four, R64 = Round of 64, R32 = Round of 32, S16 = Sweet Sixteen, E8 = Elite Eight, F4 = Final Four, 2ND = Runner-up, Champion = Winner of the NCAA March Madness Tournament for that given year)                                                                                                                                                                                                                                                                                                                                                                                                                                                                                                                                                                                            |\n",
        "| SEED       | Seed in the NCAA March Madness Tournament                                                                                                                                                                                                                                                                                                                                                                                                                                                                                                                                                                                                                                                                                                                                                                                                                                      |\n",
        "| YEAR       | Season                                                                                                                                                                                                                                                                                                                                                                                                                                                                                                                                                                                                                                                                                                                                                                                                                                                                         |\n"
      ],
      "metadata": {
        "id": "xb5vXkvVHAB2"
      }
    },
    {
      "cell_type": "markdown",
      "source": [
        "### Load Data From CSV File\n"
      ],
      "metadata": {
        "id": "Z3pyi17rHAB4"
      }
    },
    {
      "cell_type": "markdown",
      "source": [
        "Let's load the dataset \\[NB Need to provide link to csv file]\n"
      ],
      "metadata": {
        "id": "rl1HrGhmHAB4"
      }
    },
    {
      "cell_type": "code",
      "source": [
        "df = pd.read_csv('https://cf-courses-data.s3.us.cloud-object-storage.appdomain.cloud/IBMDeveloperSkillsNetwork-ML0101EN-SkillsNetwork/labs/Module%206/cbb.csv')\n",
        "df.head()"
      ],
      "metadata": {
        "trusted": true,
        "colab": {
          "base_uri": "https://localhost:8080/",
          "height": 236
        },
        "id": "RurSsfMkHAB4",
        "outputId": "ff7db7ae-5234-46bf-c4a6-4d45b983af09"
      },
      "execution_count": null,
      "outputs": [
        {
          "output_type": "execute_result",
          "data": {
            "text/plain": [
              "             TEAM CONF   G   W  ADJOE  ADJDE  BARTHAG  EFG_O  EFG_D   TOR  \\\n",
              "0  North Carolina  ACC  40  33  123.3   94.9   0.9531   52.6   48.1  15.4   \n",
              "1       Villanova   BE  40  35  123.1   90.9   0.9703   56.1   46.7  16.3   \n",
              "2      Notre Dame  ACC  36  24  118.3  103.3   0.8269   54.0   49.5  15.3   \n",
              "3        Virginia  ACC  37  29  119.9   91.0   0.9600   54.8   48.4  15.1   \n",
              "4          Kansas  B12  37  32  120.9   90.4   0.9662   55.7   45.1  17.8   \n",
              "\n",
              "   ...  FTRD  2P_O  2P_D  3P_O  3P_D  ADJ_T   WAB  POSTSEASON  SEED  YEAR  \n",
              "0  ...  30.4  53.9  44.6  32.7  36.2   71.7   8.6         2ND   1.0  2016  \n",
              "1  ...  30.0  57.4  44.1  36.2  33.9   66.7   8.9   Champions   2.0  2016  \n",
              "2  ...  26.0  52.9  46.5  37.4  36.9   65.5   2.3          E8   6.0  2016  \n",
              "3  ...  33.4  52.6  46.3  40.3  34.7   61.9   8.6          E8   1.0  2016  \n",
              "4  ...  37.3  52.7  43.4  41.3  32.5   70.1  11.6          E8   1.0  2016  \n",
              "\n",
              "[5 rows x 24 columns]"
            ],
            "text/html": [
              "\n",
              "  <div id=\"df-827f60ec-e6ba-41a3-bca0-a43e7f7c5498\">\n",
              "    <div class=\"colab-df-container\">\n",
              "      <div>\n",
              "<style scoped>\n",
              "    .dataframe tbody tr th:only-of-type {\n",
              "        vertical-align: middle;\n",
              "    }\n",
              "\n",
              "    .dataframe tbody tr th {\n",
              "        vertical-align: top;\n",
              "    }\n",
              "\n",
              "    .dataframe thead th {\n",
              "        text-align: right;\n",
              "    }\n",
              "</style>\n",
              "<table border=\"1\" class=\"dataframe\">\n",
              "  <thead>\n",
              "    <tr style=\"text-align: right;\">\n",
              "      <th></th>\n",
              "      <th>TEAM</th>\n",
              "      <th>CONF</th>\n",
              "      <th>G</th>\n",
              "      <th>W</th>\n",
              "      <th>ADJOE</th>\n",
              "      <th>ADJDE</th>\n",
              "      <th>BARTHAG</th>\n",
              "      <th>EFG_O</th>\n",
              "      <th>EFG_D</th>\n",
              "      <th>TOR</th>\n",
              "      <th>...</th>\n",
              "      <th>FTRD</th>\n",
              "      <th>2P_O</th>\n",
              "      <th>2P_D</th>\n",
              "      <th>3P_O</th>\n",
              "      <th>3P_D</th>\n",
              "      <th>ADJ_T</th>\n",
              "      <th>WAB</th>\n",
              "      <th>POSTSEASON</th>\n",
              "      <th>SEED</th>\n",
              "      <th>YEAR</th>\n",
              "    </tr>\n",
              "  </thead>\n",
              "  <tbody>\n",
              "    <tr>\n",
              "      <th>0</th>\n",
              "      <td>North Carolina</td>\n",
              "      <td>ACC</td>\n",
              "      <td>40</td>\n",
              "      <td>33</td>\n",
              "      <td>123.3</td>\n",
              "      <td>94.9</td>\n",
              "      <td>0.9531</td>\n",
              "      <td>52.6</td>\n",
              "      <td>48.1</td>\n",
              "      <td>15.4</td>\n",
              "      <td>...</td>\n",
              "      <td>30.4</td>\n",
              "      <td>53.9</td>\n",
              "      <td>44.6</td>\n",
              "      <td>32.7</td>\n",
              "      <td>36.2</td>\n",
              "      <td>71.7</td>\n",
              "      <td>8.6</td>\n",
              "      <td>2ND</td>\n",
              "      <td>1.0</td>\n",
              "      <td>2016</td>\n",
              "    </tr>\n",
              "    <tr>\n",
              "      <th>1</th>\n",
              "      <td>Villanova</td>\n",
              "      <td>BE</td>\n",
              "      <td>40</td>\n",
              "      <td>35</td>\n",
              "      <td>123.1</td>\n",
              "      <td>90.9</td>\n",
              "      <td>0.9703</td>\n",
              "      <td>56.1</td>\n",
              "      <td>46.7</td>\n",
              "      <td>16.3</td>\n",
              "      <td>...</td>\n",
              "      <td>30.0</td>\n",
              "      <td>57.4</td>\n",
              "      <td>44.1</td>\n",
              "      <td>36.2</td>\n",
              "      <td>33.9</td>\n",
              "      <td>66.7</td>\n",
              "      <td>8.9</td>\n",
              "      <td>Champions</td>\n",
              "      <td>2.0</td>\n",
              "      <td>2016</td>\n",
              "    </tr>\n",
              "    <tr>\n",
              "      <th>2</th>\n",
              "      <td>Notre Dame</td>\n",
              "      <td>ACC</td>\n",
              "      <td>36</td>\n",
              "      <td>24</td>\n",
              "      <td>118.3</td>\n",
              "      <td>103.3</td>\n",
              "      <td>0.8269</td>\n",
              "      <td>54.0</td>\n",
              "      <td>49.5</td>\n",
              "      <td>15.3</td>\n",
              "      <td>...</td>\n",
              "      <td>26.0</td>\n",
              "      <td>52.9</td>\n",
              "      <td>46.5</td>\n",
              "      <td>37.4</td>\n",
              "      <td>36.9</td>\n",
              "      <td>65.5</td>\n",
              "      <td>2.3</td>\n",
              "      <td>E8</td>\n",
              "      <td>6.0</td>\n",
              "      <td>2016</td>\n",
              "    </tr>\n",
              "    <tr>\n",
              "      <th>3</th>\n",
              "      <td>Virginia</td>\n",
              "      <td>ACC</td>\n",
              "      <td>37</td>\n",
              "      <td>29</td>\n",
              "      <td>119.9</td>\n",
              "      <td>91.0</td>\n",
              "      <td>0.9600</td>\n",
              "      <td>54.8</td>\n",
              "      <td>48.4</td>\n",
              "      <td>15.1</td>\n",
              "      <td>...</td>\n",
              "      <td>33.4</td>\n",
              "      <td>52.6</td>\n",
              "      <td>46.3</td>\n",
              "      <td>40.3</td>\n",
              "      <td>34.7</td>\n",
              "      <td>61.9</td>\n",
              "      <td>8.6</td>\n",
              "      <td>E8</td>\n",
              "      <td>1.0</td>\n",
              "      <td>2016</td>\n",
              "    </tr>\n",
              "    <tr>\n",
              "      <th>4</th>\n",
              "      <td>Kansas</td>\n",
              "      <td>B12</td>\n",
              "      <td>37</td>\n",
              "      <td>32</td>\n",
              "      <td>120.9</td>\n",
              "      <td>90.4</td>\n",
              "      <td>0.9662</td>\n",
              "      <td>55.7</td>\n",
              "      <td>45.1</td>\n",
              "      <td>17.8</td>\n",
              "      <td>...</td>\n",
              "      <td>37.3</td>\n",
              "      <td>52.7</td>\n",
              "      <td>43.4</td>\n",
              "      <td>41.3</td>\n",
              "      <td>32.5</td>\n",
              "      <td>70.1</td>\n",
              "      <td>11.6</td>\n",
              "      <td>E8</td>\n",
              "      <td>1.0</td>\n",
              "      <td>2016</td>\n",
              "    </tr>\n",
              "  </tbody>\n",
              "</table>\n",
              "<p>5 rows × 24 columns</p>\n",
              "</div>\n",
              "      <button class=\"colab-df-convert\" onclick=\"convertToInteractive('df-827f60ec-e6ba-41a3-bca0-a43e7f7c5498')\"\n",
              "              title=\"Convert this dataframe to an interactive table.\"\n",
              "              style=\"display:none;\">\n",
              "        \n",
              "  <svg xmlns=\"http://www.w3.org/2000/svg\" height=\"24px\"viewBox=\"0 0 24 24\"\n",
              "       width=\"24px\">\n",
              "    <path d=\"M0 0h24v24H0V0z\" fill=\"none\"/>\n",
              "    <path d=\"M18.56 5.44l.94 2.06.94-2.06 2.06-.94-2.06-.94-.94-2.06-.94 2.06-2.06.94zm-11 1L8.5 8.5l.94-2.06 2.06-.94-2.06-.94L8.5 2.5l-.94 2.06-2.06.94zm10 10l.94 2.06.94-2.06 2.06-.94-2.06-.94-.94-2.06-.94 2.06-2.06.94z\"/><path d=\"M17.41 7.96l-1.37-1.37c-.4-.4-.92-.59-1.43-.59-.52 0-1.04.2-1.43.59L10.3 9.45l-7.72 7.72c-.78.78-.78 2.05 0 2.83L4 21.41c.39.39.9.59 1.41.59.51 0 1.02-.2 1.41-.59l7.78-7.78 2.81-2.81c.8-.78.8-2.07 0-2.86zM5.41 20L4 18.59l7.72-7.72 1.47 1.35L5.41 20z\"/>\n",
              "  </svg>\n",
              "      </button>\n",
              "      \n",
              "  <style>\n",
              "    .colab-df-container {\n",
              "      display:flex;\n",
              "      flex-wrap:wrap;\n",
              "      gap: 12px;\n",
              "    }\n",
              "\n",
              "    .colab-df-convert {\n",
              "      background-color: #E8F0FE;\n",
              "      border: none;\n",
              "      border-radius: 50%;\n",
              "      cursor: pointer;\n",
              "      display: none;\n",
              "      fill: #1967D2;\n",
              "      height: 32px;\n",
              "      padding: 0 0 0 0;\n",
              "      width: 32px;\n",
              "    }\n",
              "\n",
              "    .colab-df-convert:hover {\n",
              "      background-color: #E2EBFA;\n",
              "      box-shadow: 0px 1px 2px rgba(60, 64, 67, 0.3), 0px 1px 3px 1px rgba(60, 64, 67, 0.15);\n",
              "      fill: #174EA6;\n",
              "    }\n",
              "\n",
              "    [theme=dark] .colab-df-convert {\n",
              "      background-color: #3B4455;\n",
              "      fill: #D2E3FC;\n",
              "    }\n",
              "\n",
              "    [theme=dark] .colab-df-convert:hover {\n",
              "      background-color: #434B5C;\n",
              "      box-shadow: 0px 1px 3px 1px rgba(0, 0, 0, 0.15);\n",
              "      filter: drop-shadow(0px 1px 2px rgba(0, 0, 0, 0.3));\n",
              "      fill: #FFFFFF;\n",
              "    }\n",
              "  </style>\n",
              "\n",
              "      <script>\n",
              "        const buttonEl =\n",
              "          document.querySelector('#df-827f60ec-e6ba-41a3-bca0-a43e7f7c5498 button.colab-df-convert');\n",
              "        buttonEl.style.display =\n",
              "          google.colab.kernel.accessAllowed ? 'block' : 'none';\n",
              "\n",
              "        async function convertToInteractive(key) {\n",
              "          const element = document.querySelector('#df-827f60ec-e6ba-41a3-bca0-a43e7f7c5498');\n",
              "          const dataTable =\n",
              "            await google.colab.kernel.invokeFunction('convertToInteractive',\n",
              "                                                     [key], {});\n",
              "          if (!dataTable) return;\n",
              "\n",
              "          const docLinkHtml = 'Like what you see? Visit the ' +\n",
              "            '<a target=\"_blank\" href=https://colab.research.google.com/notebooks/data_table.ipynb>data table notebook</a>'\n",
              "            + ' to learn more about interactive tables.';\n",
              "          element.innerHTML = '';\n",
              "          dataTable['output_type'] = 'display_data';\n",
              "          await google.colab.output.renderOutput(dataTable, element);\n",
              "          const docLink = document.createElement('div');\n",
              "          docLink.innerHTML = docLinkHtml;\n",
              "          element.appendChild(docLink);\n",
              "        }\n",
              "      </script>\n",
              "    </div>\n",
              "  </div>\n",
              "  "
            ]
          },
          "metadata": {},
          "execution_count": 8
        }
      ]
    },
    {
      "cell_type": "code",
      "source": [
        "df.shape"
      ],
      "metadata": {
        "trusted": true,
        "colab": {
          "base_uri": "https://localhost:8080/"
        },
        "id": "i920tWpUHAB5",
        "outputId": "3cbb372b-771b-4f44-93ec-0e2260571520"
      },
      "execution_count": null,
      "outputs": [
        {
          "output_type": "execute_result",
          "data": {
            "text/plain": [
              "(1406, 24)"
            ]
          },
          "metadata": {},
          "execution_count": 9
        }
      ]
    },
    {
      "cell_type": "markdown",
      "source": [
        "## Add Column\n",
        "\n",
        "Next we'll add a column that will contain \"true\" if the wins above bubble are over 7 and \"false\" if not. We'll call this column Win Index or \"windex\" for short.\n"
      ],
      "metadata": {
        "id": "ak6kJszgHAB5"
      }
    },
    {
      "cell_type": "code",
      "source": [
        "df['windex'] = np.where(df.WAB > 7, 'True', 'False')"
      ],
      "metadata": {
        "trusted": true,
        "id": "G0ubJg5ZHAB5"
      },
      "execution_count": null,
      "outputs": []
    },
    {
      "cell_type": "markdown",
      "source": [
        "# Data visualization and pre-processing\n"
      ],
      "metadata": {
        "id": "1RXgtQSWHAB5"
      }
    },
    {
      "cell_type": "markdown",
      "source": [
        "Next we'll filter the data set to the teams that made the Sweet Sixteen, the Elite Eight, and the Final Four in the post season. We'll also create a new dataframe that will hold the values with the new column.\n"
      ],
      "metadata": {
        "id": "4QLgJgNKHAB5"
      }
    },
    {
      "cell_type": "code",
      "source": [
        "df1 = df.loc[df['POSTSEASON'].str.contains('F4|S16|E8', na=False)]\n",
        "df1.head()"
      ],
      "metadata": {
        "trusted": true,
        "colab": {
          "base_uri": "https://localhost:8080/",
          "height": 236
        },
        "id": "U07Gu-fYHAB5",
        "outputId": "609c43a5-867f-4a89-aba8-5a9a36219cae"
      },
      "execution_count": null,
      "outputs": [
        {
          "output_type": "execute_result",
          "data": {
            "text/plain": [
              "         TEAM CONF   G   W  ADJOE  ADJDE  BARTHAG  EFG_O  EFG_D   TOR  ...  \\\n",
              "2  Notre Dame  ACC  36  24  118.3  103.3   0.8269   54.0   49.5  15.3  ...   \n",
              "3    Virginia  ACC  37  29  119.9   91.0   0.9600   54.8   48.4  15.1  ...   \n",
              "4      Kansas  B12  37  32  120.9   90.4   0.9662   55.7   45.1  17.8  ...   \n",
              "5      Oregon  P12  37  30  118.4   96.2   0.9163   52.3   48.9  16.1  ...   \n",
              "6    Syracuse  ACC  37  23  111.9   93.6   0.8857   50.0   47.3  18.1  ...   \n",
              "\n",
              "   2P_O  2P_D  3P_O  3P_D  ADJ_T   WAB  POSTSEASON  SEED  YEAR  windex  \n",
              "2  52.9  46.5  37.4  36.9   65.5   2.3          E8   6.0  2016   False  \n",
              "3  52.6  46.3  40.3  34.7   61.9   8.6          E8   1.0  2016    True  \n",
              "4  52.7  43.4  41.3  32.5   70.1  11.6          E8   1.0  2016    True  \n",
              "5  52.6  46.1  34.4  36.2   69.0   6.7          E8   1.0  2016   False  \n",
              "6  47.2  48.1  36.0  30.7   65.5  -0.3          F4  10.0  2016   False  \n",
              "\n",
              "[5 rows x 25 columns]"
            ],
            "text/html": [
              "\n",
              "  <div id=\"df-860ee80d-5ffe-4b80-8990-900bfaa4e826\">\n",
              "    <div class=\"colab-df-container\">\n",
              "      <div>\n",
              "<style scoped>\n",
              "    .dataframe tbody tr th:only-of-type {\n",
              "        vertical-align: middle;\n",
              "    }\n",
              "\n",
              "    .dataframe tbody tr th {\n",
              "        vertical-align: top;\n",
              "    }\n",
              "\n",
              "    .dataframe thead th {\n",
              "        text-align: right;\n",
              "    }\n",
              "</style>\n",
              "<table border=\"1\" class=\"dataframe\">\n",
              "  <thead>\n",
              "    <tr style=\"text-align: right;\">\n",
              "      <th></th>\n",
              "      <th>TEAM</th>\n",
              "      <th>CONF</th>\n",
              "      <th>G</th>\n",
              "      <th>W</th>\n",
              "      <th>ADJOE</th>\n",
              "      <th>ADJDE</th>\n",
              "      <th>BARTHAG</th>\n",
              "      <th>EFG_O</th>\n",
              "      <th>EFG_D</th>\n",
              "      <th>TOR</th>\n",
              "      <th>...</th>\n",
              "      <th>2P_O</th>\n",
              "      <th>2P_D</th>\n",
              "      <th>3P_O</th>\n",
              "      <th>3P_D</th>\n",
              "      <th>ADJ_T</th>\n",
              "      <th>WAB</th>\n",
              "      <th>POSTSEASON</th>\n",
              "      <th>SEED</th>\n",
              "      <th>YEAR</th>\n",
              "      <th>windex</th>\n",
              "    </tr>\n",
              "  </thead>\n",
              "  <tbody>\n",
              "    <tr>\n",
              "      <th>2</th>\n",
              "      <td>Notre Dame</td>\n",
              "      <td>ACC</td>\n",
              "      <td>36</td>\n",
              "      <td>24</td>\n",
              "      <td>118.3</td>\n",
              "      <td>103.3</td>\n",
              "      <td>0.8269</td>\n",
              "      <td>54.0</td>\n",
              "      <td>49.5</td>\n",
              "      <td>15.3</td>\n",
              "      <td>...</td>\n",
              "      <td>52.9</td>\n",
              "      <td>46.5</td>\n",
              "      <td>37.4</td>\n",
              "      <td>36.9</td>\n",
              "      <td>65.5</td>\n",
              "      <td>2.3</td>\n",
              "      <td>E8</td>\n",
              "      <td>6.0</td>\n",
              "      <td>2016</td>\n",
              "      <td>False</td>\n",
              "    </tr>\n",
              "    <tr>\n",
              "      <th>3</th>\n",
              "      <td>Virginia</td>\n",
              "      <td>ACC</td>\n",
              "      <td>37</td>\n",
              "      <td>29</td>\n",
              "      <td>119.9</td>\n",
              "      <td>91.0</td>\n",
              "      <td>0.9600</td>\n",
              "      <td>54.8</td>\n",
              "      <td>48.4</td>\n",
              "      <td>15.1</td>\n",
              "      <td>...</td>\n",
              "      <td>52.6</td>\n",
              "      <td>46.3</td>\n",
              "      <td>40.3</td>\n",
              "      <td>34.7</td>\n",
              "      <td>61.9</td>\n",
              "      <td>8.6</td>\n",
              "      <td>E8</td>\n",
              "      <td>1.0</td>\n",
              "      <td>2016</td>\n",
              "      <td>True</td>\n",
              "    </tr>\n",
              "    <tr>\n",
              "      <th>4</th>\n",
              "      <td>Kansas</td>\n",
              "      <td>B12</td>\n",
              "      <td>37</td>\n",
              "      <td>32</td>\n",
              "      <td>120.9</td>\n",
              "      <td>90.4</td>\n",
              "      <td>0.9662</td>\n",
              "      <td>55.7</td>\n",
              "      <td>45.1</td>\n",
              "      <td>17.8</td>\n",
              "      <td>...</td>\n",
              "      <td>52.7</td>\n",
              "      <td>43.4</td>\n",
              "      <td>41.3</td>\n",
              "      <td>32.5</td>\n",
              "      <td>70.1</td>\n",
              "      <td>11.6</td>\n",
              "      <td>E8</td>\n",
              "      <td>1.0</td>\n",
              "      <td>2016</td>\n",
              "      <td>True</td>\n",
              "    </tr>\n",
              "    <tr>\n",
              "      <th>5</th>\n",
              "      <td>Oregon</td>\n",
              "      <td>P12</td>\n",
              "      <td>37</td>\n",
              "      <td>30</td>\n",
              "      <td>118.4</td>\n",
              "      <td>96.2</td>\n",
              "      <td>0.9163</td>\n",
              "      <td>52.3</td>\n",
              "      <td>48.9</td>\n",
              "      <td>16.1</td>\n",
              "      <td>...</td>\n",
              "      <td>52.6</td>\n",
              "      <td>46.1</td>\n",
              "      <td>34.4</td>\n",
              "      <td>36.2</td>\n",
              "      <td>69.0</td>\n",
              "      <td>6.7</td>\n",
              "      <td>E8</td>\n",
              "      <td>1.0</td>\n",
              "      <td>2016</td>\n",
              "      <td>False</td>\n",
              "    </tr>\n",
              "    <tr>\n",
              "      <th>6</th>\n",
              "      <td>Syracuse</td>\n",
              "      <td>ACC</td>\n",
              "      <td>37</td>\n",
              "      <td>23</td>\n",
              "      <td>111.9</td>\n",
              "      <td>93.6</td>\n",
              "      <td>0.8857</td>\n",
              "      <td>50.0</td>\n",
              "      <td>47.3</td>\n",
              "      <td>18.1</td>\n",
              "      <td>...</td>\n",
              "      <td>47.2</td>\n",
              "      <td>48.1</td>\n",
              "      <td>36.0</td>\n",
              "      <td>30.7</td>\n",
              "      <td>65.5</td>\n",
              "      <td>-0.3</td>\n",
              "      <td>F4</td>\n",
              "      <td>10.0</td>\n",
              "      <td>2016</td>\n",
              "      <td>False</td>\n",
              "    </tr>\n",
              "  </tbody>\n",
              "</table>\n",
              "<p>5 rows × 25 columns</p>\n",
              "</div>\n",
              "      <button class=\"colab-df-convert\" onclick=\"convertToInteractive('df-860ee80d-5ffe-4b80-8990-900bfaa4e826')\"\n",
              "              title=\"Convert this dataframe to an interactive table.\"\n",
              "              style=\"display:none;\">\n",
              "        \n",
              "  <svg xmlns=\"http://www.w3.org/2000/svg\" height=\"24px\"viewBox=\"0 0 24 24\"\n",
              "       width=\"24px\">\n",
              "    <path d=\"M0 0h24v24H0V0z\" fill=\"none\"/>\n",
              "    <path d=\"M18.56 5.44l.94 2.06.94-2.06 2.06-.94-2.06-.94-.94-2.06-.94 2.06-2.06.94zm-11 1L8.5 8.5l.94-2.06 2.06-.94-2.06-.94L8.5 2.5l-.94 2.06-2.06.94zm10 10l.94 2.06.94-2.06 2.06-.94-2.06-.94-.94-2.06-.94 2.06-2.06.94z\"/><path d=\"M17.41 7.96l-1.37-1.37c-.4-.4-.92-.59-1.43-.59-.52 0-1.04.2-1.43.59L10.3 9.45l-7.72 7.72c-.78.78-.78 2.05 0 2.83L4 21.41c.39.39.9.59 1.41.59.51 0 1.02-.2 1.41-.59l7.78-7.78 2.81-2.81c.8-.78.8-2.07 0-2.86zM5.41 20L4 18.59l7.72-7.72 1.47 1.35L5.41 20z\"/>\n",
              "  </svg>\n",
              "      </button>\n",
              "      \n",
              "  <style>\n",
              "    .colab-df-container {\n",
              "      display:flex;\n",
              "      flex-wrap:wrap;\n",
              "      gap: 12px;\n",
              "    }\n",
              "\n",
              "    .colab-df-convert {\n",
              "      background-color: #E8F0FE;\n",
              "      border: none;\n",
              "      border-radius: 50%;\n",
              "      cursor: pointer;\n",
              "      display: none;\n",
              "      fill: #1967D2;\n",
              "      height: 32px;\n",
              "      padding: 0 0 0 0;\n",
              "      width: 32px;\n",
              "    }\n",
              "\n",
              "    .colab-df-convert:hover {\n",
              "      background-color: #E2EBFA;\n",
              "      box-shadow: 0px 1px 2px rgba(60, 64, 67, 0.3), 0px 1px 3px 1px rgba(60, 64, 67, 0.15);\n",
              "      fill: #174EA6;\n",
              "    }\n",
              "\n",
              "    [theme=dark] .colab-df-convert {\n",
              "      background-color: #3B4455;\n",
              "      fill: #D2E3FC;\n",
              "    }\n",
              "\n",
              "    [theme=dark] .colab-df-convert:hover {\n",
              "      background-color: #434B5C;\n",
              "      box-shadow: 0px 1px 3px 1px rgba(0, 0, 0, 0.15);\n",
              "      filter: drop-shadow(0px 1px 2px rgba(0, 0, 0, 0.3));\n",
              "      fill: #FFFFFF;\n",
              "    }\n",
              "  </style>\n",
              "\n",
              "      <script>\n",
              "        const buttonEl =\n",
              "          document.querySelector('#df-860ee80d-5ffe-4b80-8990-900bfaa4e826 button.colab-df-convert');\n",
              "        buttonEl.style.display =\n",
              "          google.colab.kernel.accessAllowed ? 'block' : 'none';\n",
              "\n",
              "        async function convertToInteractive(key) {\n",
              "          const element = document.querySelector('#df-860ee80d-5ffe-4b80-8990-900bfaa4e826');\n",
              "          const dataTable =\n",
              "            await google.colab.kernel.invokeFunction('convertToInteractive',\n",
              "                                                     [key], {});\n",
              "          if (!dataTable) return;\n",
              "\n",
              "          const docLinkHtml = 'Like what you see? Visit the ' +\n",
              "            '<a target=\"_blank\" href=https://colab.research.google.com/notebooks/data_table.ipynb>data table notebook</a>'\n",
              "            + ' to learn more about interactive tables.';\n",
              "          element.innerHTML = '';\n",
              "          dataTable['output_type'] = 'display_data';\n",
              "          await google.colab.output.renderOutput(dataTable, element);\n",
              "          const docLink = document.createElement('div');\n",
              "          docLink.innerHTML = docLinkHtml;\n",
              "          element.appendChild(docLink);\n",
              "        }\n",
              "      </script>\n",
              "    </div>\n",
              "  </div>\n",
              "  "
            ]
          },
          "metadata": {},
          "execution_count": 11
        }
      ]
    },
    {
      "cell_type": "code",
      "source": [
        "df1['POSTSEASON'].value_counts()"
      ],
      "metadata": {
        "trusted": true,
        "colab": {
          "base_uri": "https://localhost:8080/"
        },
        "id": "vq2Hkg88HAB5",
        "outputId": "4c468ac0-5cbf-4ab5-9e4e-dc33ddf55d03"
      },
      "execution_count": null,
      "outputs": [
        {
          "output_type": "execute_result",
          "data": {
            "text/plain": [
              "S16    32\n",
              "E8     16\n",
              "F4      8\n",
              "Name: POSTSEASON, dtype: int64"
            ]
          },
          "metadata": {},
          "execution_count": 12
        }
      ]
    },
    {
      "cell_type": "markdown",
      "source": [
        "32 teams made it into the Sweet Sixteen, 16 into the Elite Eight, and 8 made it into the Final Four over 5 seasons.\n"
      ],
      "metadata": {
        "id": "O3zPQ_ZWHAB5"
      }
    },
    {
      "cell_type": "markdown",
      "source": [
        "Lets plot some columns to underestand the data better:\n"
      ],
      "metadata": {
        "id": "F7WwCHFZHAB5"
      }
    },
    {
      "cell_type": "code",
      "source": [
        "import seaborn as sns\n",
        "\n",
        "bins = np.linspace(df1.BARTHAG.min(), df1.BARTHAG.max(), 10)\n",
        "g = sns.FacetGrid(df1, col=\"windex\", hue=\"POSTSEASON\", palette=\"Set1\", col_wrap=6)\n",
        "g.map(plt.hist, 'BARTHAG', bins=bins, ec=\"k\")\n",
        "\n",
        "g.axes[-1].legend()\n",
        "plt.show()"
      ],
      "metadata": {
        "trusted": true,
        "colab": {
          "base_uri": "https://localhost:8080/",
          "height": 225
        },
        "id": "ud3W5-2THAB5",
        "outputId": "3e53d892-54a2-4ce4-94e6-322cac91e3fe"
      },
      "execution_count": null,
      "outputs": [
        {
          "output_type": "display_data",
          "data": {
            "text/plain": [
              "<Figure size 1296x216 with 2 Axes>"
            ],
            "image/png": "[encoded data removed]"
          },
          "metadata": {
            "needs_background": "light"
          }
        }
      ]
    },
    {
      "cell_type": "code",
      "source": [
        "bins = np.linspace(df1.ADJOE.min(), df1.ADJOE.max(), 10)\n",
        "g = sns.FacetGrid(df1, col=\"windex\", hue=\"POSTSEASON\", palette=\"Set1\", col_wrap=2)\n",
        "g.map(plt.hist, 'ADJOE', bins=bins, ec=\"k\")\n",
        "\n",
        "g.axes[-1].legend()\n",
        "plt.show()"
      ],
      "metadata": {
        "trusted": true,
        "colab": {
          "base_uri": "https://localhost:8080/",
          "height": 225
        },
        "id": "DNYdD3WtHAB5",
        "outputId": "2e096c7b-3747-440f-c680-8389873d979d"
      },
      "execution_count": null,
      "outputs": [
        {
          "output_type": "display_data",
          "data": {
            "text/plain": [
              "<Figure size 432x216 with 2 Axes>"
            ],
            "image/png": "[encoded data removed]"
          },
          "metadata": {
            "needs_background": "light"
          }
        }
      ]
    },
    {
      "cell_type": "markdown",
      "source": [
        "# Pre-processing:  Feature selection/extraction\n"
      ],
      "metadata": {
        "id": "2u9Lo7QoHAB6"
      }
    },
    {
      "cell_type": "markdown",
      "source": [
        "### Lets look at how Adjusted Defense Efficiency plots\n"
      ],
      "metadata": {
        "id": "JESKIv9AHAB6"
      }
    },
    {
      "cell_type": "code",
      "source": [
        "bins = np.linspace(df1.ADJDE.min(), df1.ADJDE.max(), 10)\n",
        "g = sns.FacetGrid(df1, col=\"windex\", hue=\"POSTSEASON\", palette=\"Set1\", col_wrap=2)\n",
        "g.map(plt.hist, 'ADJDE', bins=bins, ec=\"k\")\n",
        "g.axes[-1].legend()\n",
        "plt.show()\n"
      ],
      "metadata": {
        "trusted": true,
        "colab": {
          "base_uri": "https://localhost:8080/",
          "height": 225
        },
        "id": "UFLoC0atHAB9",
        "outputId": "9312533c-6faa-4d1e-c9bd-cd4556f74875"
      },
      "execution_count": null,
      "outputs": [
        {
          "output_type": "display_data",
          "data": {
            "text/plain": [
              "<Figure size 432x216 with 2 Axes>"
            ],
            "image/png": "[encoded data removed]"
          },
          "metadata": {
            "needs_background": "light"
          }
        }
      ]
    },
    {
      "cell_type": "markdown",
      "source": [
        "We see that this data point doesn't impact the ability of a team to get into the Final Four.\n"
      ],
      "metadata": {
        "id": "YLxF1BmgHAB9"
      }
    },
    {
      "cell_type": "markdown",
      "source": [
        "## Convert Categorical features to numerical values\n"
      ],
      "metadata": {
        "id": "BbZ5W6MzHAB9"
      }
    },
    {
      "cell_type": "markdown",
      "source": [
        "Lets look at the postseason:\n"
      ],
      "metadata": {
        "id": "SkUhHBltHAB9"
      }
    },
    {
      "cell_type": "code",
      "source": [
        "df1.groupby(['windex'])['POSTSEASON'].value_counts(normalize=True)"
      ],
      "metadata": {
        "trusted": true,
        "colab": {
          "base_uri": "https://localhost:8080/"
        },
        "id": "s7J8KOQwHAB9",
        "outputId": "289c068b-89b0-45a4-eb58-b070da9a48cd"
      },
      "execution_count": null,
      "outputs": [
        {
          "output_type": "execute_result",
          "data": {
            "text/plain": [
              "windex  POSTSEASON\n",
              "False   S16           0.605263\n",
              "        E8            0.263158\n",
              "        F4            0.131579\n",
              "True    S16           0.500000\n",
              "        E8            0.333333\n",
              "        F4            0.166667\n",
              "Name: POSTSEASON, dtype: float64"
            ]
          },
          "metadata": {},
          "execution_count": 16
        }
      ]
    },
    {
      "cell_type": "markdown",
      "source": [
        "13% of teams with 6 or less wins above bubble make it into the final four while 17% of teams with 7 or more do.\n"
      ],
      "metadata": {
        "id": "4By05b0uHAB9"
      }
    },
    {
      "cell_type": "markdown",
      "source": [
        "Lets convert wins above bubble (winindex) under 7 to 0 and over 7 to 1:\n"
      ],
      "metadata": {
        "id": "nl5juLNBHAB9"
      }
    },
    {
      "cell_type": "code",
      "source": [
        "import warnings\n",
        "warnings.filterwarnings('ignore')\n",
        "df1['windex'].replace(to_replace=['False','True'], value=[0,1],inplace=True)\n",
        "df1.head()"
      ],
      "metadata": {
        "trusted": true,
        "colab": {
          "base_uri": "https://localhost:8080/",
          "height": 236
        },
        "id": "w39ARGjuHAB9",
        "outputId": "fdc9dbca-1466-4a1a-e44a-779dae681978"
      },
      "execution_count": null,
      "outputs": [
        {
          "output_type": "execute_result",
          "data": {
            "text/plain": [
              "         TEAM CONF   G   W  ADJOE  ADJDE  BARTHAG  EFG_O  EFG_D   TOR  ...  \\\n",
              "2  Notre Dame  ACC  36  24  118.3  103.3   0.8269   54.0   49.5  15.3  ...   \n",
              "3    Virginia  ACC  37  29  119.9   91.0   0.9600   54.8   48.4  15.1  ...   \n",
              "4      Kansas  B12  37  32  120.9   90.4   0.9662   55.7   45.1  17.8  ...   \n",
              "5      Oregon  P12  37  30  118.4   96.2   0.9163   52.3   48.9  16.1  ...   \n",
              "6    Syracuse  ACC  37  23  111.9   93.6   0.8857   50.0   47.3  18.1  ...   \n",
              "\n",
              "   2P_O  2P_D  3P_O  3P_D  ADJ_T   WAB  POSTSEASON  SEED  YEAR  windex  \n",
              "2  52.9  46.5  37.4  36.9   65.5   2.3          E8   6.0  2016       0  \n",
              "3  52.6  46.3  40.3  34.7   61.9   8.6          E8   1.0  2016       1  \n",
              "4  52.7  43.4  41.3  32.5   70.1  11.6          E8   1.0  2016       1  \n",
              "5  52.6  46.1  34.4  36.2   69.0   6.7          E8   1.0  2016       0  \n",
              "6  47.2  48.1  36.0  30.7   65.5  -0.3          F4  10.0  2016       0  \n",
              "\n",
              "[5 rows x 25 columns]"
            ],
            "text/html": [
              "\n",
              "  <div id=\"df-8d807f3e-7d93-47e0-99b1-b22fdf80a0c4\">\n",
              "    <div class=\"colab-df-container\">\n",
              "      <div>\n",
              "<style scoped>\n",
              "    .dataframe tbody tr th:only-of-type {\n",
              "        vertical-align: middle;\n",
              "    }\n",
              "\n",
              "    .dataframe tbody tr th {\n",
              "        vertical-align: top;\n",
              "    }\n",
              "\n",
              "    .dataframe thead th {\n",
              "        text-align: right;\n",
              "    }\n",
              "</style>\n",
              "<table border=\"1\" class=\"dataframe\">\n",
              "  <thead>\n",
              "    <tr style=\"text-align: right;\">\n",
              "      <th></th>\n",
              "      <th>TEAM</th>\n",
              "      <th>CONF</th>\n",
              "      <th>G</th>\n",
              "      <th>W</th>\n",
              "      <th>ADJOE</th>\n",
              "      <th>ADJDE</th>\n",
              "      <th>BARTHAG</th>\n",
              "      <th>EFG_O</th>\n",
              "      <th>EFG_D</th>\n",
              "      <th>TOR</th>\n",
              "      <th>...</th>\n",
              "      <th>2P_O</th>\n",
              "      <th>2P_D</th>\n",
              "      <th>3P_O</th>\n",
              "      <th>3P_D</th>\n",
              "      <th>ADJ_T</th>\n",
              "      <th>WAB</th>\n",
              "      <th>POSTSEASON</th>\n",
              "      <th>SEED</th>\n",
              "      <th>YEAR</th>\n",
              "      <th>windex</th>\n",
              "    </tr>\n",
              "  </thead>\n",
              "  <tbody>\n",
              "    <tr>\n",
              "      <th>2</th>\n",
              "      <td>Notre Dame</td>\n",
              "      <td>ACC</td>\n",
              "      <td>36</td>\n",
              "      <td>24</td>\n",
              "      <td>118.3</td>\n",
              "      <td>103.3</td>\n",
              "      <td>0.8269</td>\n",
              "      <td>54.0</td>\n",
              "      <td>49.5</td>\n",
              "      <td>15.3</td>\n",
              "      <td>...</td>\n",
              "      <td>52.9</td>\n",
              "      <td>46.5</td>\n",
              "      <td>37.4</td>\n",
              "      <td>36.9</td>\n",
              "      <td>65.5</td>\n",
              "      <td>2.3</td>\n",
              "      <td>E8</td>\n",
              "      <td>6.0</td>\n",
              "      <td>2016</td>\n",
              "      <td>0</td>\n",
              "    </tr>\n",
              "    <tr>\n",
              "      <th>3</th>\n",
              "      <td>Virginia</td>\n",
              "      <td>ACC</td>\n",
              "      <td>37</td>\n",
              "      <td>29</td>\n",
              "      <td>119.9</td>\n",
              "      <td>91.0</td>\n",
              "      <td>0.9600</td>\n",
              "      <td>54.8</td>\n",
              "      <td>48.4</td>\n",
              "      <td>15.1</td>\n",
              "      <td>...</td>\n",
              "      <td>52.6</td>\n",
              "      <td>46.3</td>\n",
              "      <td>40.3</td>\n",
              "      <td>34.7</td>\n",
              "      <td>61.9</td>\n",
              "      <td>8.6</td>\n",
              "      <td>E8</td>\n",
              "      <td>1.0</td>\n",
              "      <td>2016</td>\n",
              "      <td>1</td>\n",
              "    </tr>\n",
              "    <tr>\n",
              "      <th>4</th>\n",
              "      <td>Kansas</td>\n",
              "      <td>B12</td>\n",
              "      <td>37</td>\n",
              "      <td>32</td>\n",
              "      <td>120.9</td>\n",
              "      <td>90.4</td>\n",
              "      <td>0.9662</td>\n",
              "      <td>55.7</td>\n",
              "      <td>45.1</td>\n",
              "      <td>17.8</td>\n",
              "      <td>...</td>\n",
              "      <td>52.7</td>\n",
              "      <td>43.4</td>\n",
              "      <td>41.3</td>\n",
              "      <td>32.5</td>\n",
              "      <td>70.1</td>\n",
              "      <td>11.6</td>\n",
              "      <td>E8</td>\n",
              "      <td>1.0</td>\n",
              "      <td>2016</td>\n",
              "      <td>1</td>\n",
              "    </tr>\n",
              "    <tr>\n",
              "      <th>5</th>\n",
              "      <td>Oregon</td>\n",
              "      <td>P12</td>\n",
              "      <td>37</td>\n",
              "      <td>30</td>\n",
              "      <td>118.4</td>\n",
              "      <td>96.2</td>\n",
              "      <td>0.9163</td>\n",
              "      <td>52.3</td>\n",
              "      <td>48.9</td>\n",
              "      <td>16.1</td>\n",
              "      <td>...</td>\n",
              "      <td>52.6</td>\n",
              "      <td>46.1</td>\n",
              "      <td>34.4</td>\n",
              "      <td>36.2</td>\n",
              "      <td>69.0</td>\n",
              "      <td>6.7</td>\n",
              "      <td>E8</td>\n",
              "      <td>1.0</td>\n",
              "      <td>2016</td>\n",
              "      <td>0</td>\n",
              "    </tr>\n",
              "    <tr>\n",
              "      <th>6</th>\n",
              "      <td>Syracuse</td>\n",
              "      <td>ACC</td>\n",
              "      <td>37</td>\n",
              "      <td>23</td>\n",
              "      <td>111.9</td>\n",
              "      <td>93.6</td>\n",
              "      <td>0.8857</td>\n",
              "      <td>50.0</td>\n",
              "      <td>47.3</td>\n",
              "      <td>18.1</td>\n",
              "      <td>...</td>\n",
              "      <td>47.2</td>\n",
              "      <td>48.1</td>\n",
              "      <td>36.0</td>\n",
              "      <td>30.7</td>\n",
              "      <td>65.5</td>\n",
              "      <td>-0.3</td>\n",
              "      <td>F4</td>\n",
              "      <td>10.0</td>\n",
              "      <td>2016</td>\n",
              "      <td>0</td>\n",
              "    </tr>\n",
              "  </tbody>\n",
              "</table>\n",
              "<p>5 rows × 25 columns</p>\n",
              "</div>\n",
              "      <button class=\"colab-df-convert\" onclick=\"convertToInteractive('df-8d807f3e-7d93-47e0-99b1-b22fdf80a0c4')\"\n",
              "              title=\"Convert this dataframe to an interactive table.\"\n",
              "              style=\"display:none;\">\n",
              "        \n",
              "  <svg xmlns=\"http://www.w3.org/2000/svg\" height=\"24px\"viewBox=\"0 0 24 24\"\n",
              "       width=\"24px\">\n",
              "    <path d=\"M0 0h24v24H0V0z\" fill=\"none\"/>\n",
              "    <path d=\"M18.56 5.44l.94 2.06.94-2.06 2.06-.94-2.06-.94-.94-2.06-.94 2.06-2.06.94zm-11 1L8.5 8.5l.94-2.06 2.06-.94-2.06-.94L8.5 2.5l-.94 2.06-2.06.94zm10 10l.94 2.06.94-2.06 2.06-.94-2.06-.94-.94-2.06-.94 2.06-2.06.94z\"/><path d=\"M17.41 7.96l-1.37-1.37c-.4-.4-.92-.59-1.43-.59-.52 0-1.04.2-1.43.59L10.3 9.45l-7.72 7.72c-.78.78-.78 2.05 0 2.83L4 21.41c.39.39.9.59 1.41.59.51 0 1.02-.2 1.41-.59l7.78-7.78 2.81-2.81c.8-.78.8-2.07 0-2.86zM5.41 20L4 18.59l7.72-7.72 1.47 1.35L5.41 20z\"/>\n",
              "  </svg>\n",
              "      </button>\n",
              "      \n",
              "  <style>\n",
              "    .colab-df-container {\n",
              "      display:flex;\n",
              "      flex-wrap:wrap;\n",
              "      gap: 12px;\n",
              "    }\n",
              "\n",
              "    .colab-df-convert {\n",
              "      background-color: #E8F0FE;\n",
              "      border: none;\n",
              "      border-radius: 50%;\n",
              "      cursor: pointer;\n",
              "      display: none;\n",
              "      fill: #1967D2;\n",
              "      height: 32px;\n",
              "      padding: 0 0 0 0;\n",
              "      width: 32px;\n",
              "    }\n",
              "\n",
              "    .colab-df-convert:hover {\n",
              "      background-color: #E2EBFA;\n",
              "      box-shadow: 0px 1px 2px rgba(60, 64, 67, 0.3), 0px 1px 3px 1px rgba(60, 64, 67, 0.15);\n",
              "      fill: #174EA6;\n",
              "    }\n",
              "\n",
              "    [theme=dark] .colab-df-convert {\n",
              "      background-color: #3B4455;\n",
              "      fill: #D2E3FC;\n",
              "    }\n",
              "\n",
              "    [theme=dark] .colab-df-convert:hover {\n",
              "      background-color: #434B5C;\n",
              "      box-shadow: 0px 1px 3px 1px rgba(0, 0, 0, 0.15);\n",
              "      filter: drop-shadow(0px 1px 2px rgba(0, 0, 0, 0.3));\n",
              "      fill: #FFFFFF;\n",
              "    }\n",
              "  </style>\n",
              "\n",
              "      <script>\n",
              "        const buttonEl =\n",
              "          document.querySelector('#df-8d807f3e-7d93-47e0-99b1-b22fdf80a0c4 button.colab-df-convert');\n",
              "        buttonEl.style.display =\n",
              "          google.colab.kernel.accessAllowed ? 'block' : 'none';\n",
              "\n",
              "        async function convertToInteractive(key) {\n",
              "          const element = document.querySelector('#df-8d807f3e-7d93-47e0-99b1-b22fdf80a0c4');\n",
              "          const dataTable =\n",
              "            await google.colab.kernel.invokeFunction('convertToInteractive',\n",
              "                                                     [key], {});\n",
              "          if (!dataTable) return;\n",
              "\n",
              "          const docLinkHtml = 'Like what you see? Visit the ' +\n",
              "            '<a target=\"_blank\" href=https://colab.research.google.com/notebooks/data_table.ipynb>data table notebook</a>'\n",
              "            + ' to learn more about interactive tables.';\n",
              "          element.innerHTML = '';\n",
              "          dataTable['output_type'] = 'display_data';\n",
              "          await google.colab.output.renderOutput(dataTable, element);\n",
              "          const docLink = document.createElement('div');\n",
              "          docLink.innerHTML = docLinkHtml;\n",
              "          element.appendChild(docLink);\n",
              "        }\n",
              "      </script>\n",
              "    </div>\n",
              "  </div>\n",
              "  "
            ]
          },
          "metadata": {},
          "execution_count": 17
        }
      ]
    },
    {
      "cell_type": "markdown",
      "source": [
        "### Feature selection\n"
      ],
      "metadata": {
        "id": "PpDZvdgfHAB9"
      }
    },
    {
      "cell_type": "markdown",
      "source": [
        "Let's define feature sets, X:\n"
      ],
      "metadata": {
        "id": "eqs0EDvVHAB9"
      }
    },
    {
      "cell_type": "code",
      "source": [
        "X = df1[['G', 'W', 'ADJOE', 'ADJDE', 'BARTHAG', 'EFG_O', 'EFG_D',\n",
        "       'TOR', 'TORD', 'ORB', 'DRB', 'FTR', 'FTRD', '2P_O', '2P_D', '3P_O',\n",
        "       '3P_D', 'ADJ_T', 'WAB', 'SEED', 'windex']]\n",
        "X[0:5]"
      ],
      "metadata": {
        "trusted": true,
        "colab": {
          "base_uri": "https://localhost:8080/",
          "height": 236
        },
        "id": "zGJW0dBbHAB9",
        "outputId": "7c5c267b-c6f0-4dfb-854a-4b89ca9fe472"
      },
      "execution_count": null,
      "outputs": [
        {
          "output_type": "execute_result",
          "data": {
            "text/plain": [
              "    G   W  ADJOE  ADJDE  BARTHAG  EFG_O  EFG_D   TOR  TORD   ORB  ...   FTR  \\\n",
              "2  36  24  118.3  103.3   0.8269   54.0   49.5  15.3  14.8  32.7  ...  32.9   \n",
              "3  37  29  119.9   91.0   0.9600   54.8   48.4  15.1  18.8  29.9  ...  32.1   \n",
              "4  37  32  120.9   90.4   0.9662   55.7   45.1  17.8  18.5  32.2  ...  38.6   \n",
              "5  37  30  118.4   96.2   0.9163   52.3   48.9  16.1  20.2  34.1  ...  40.3   \n",
              "6  37  23  111.9   93.6   0.8857   50.0   47.3  18.1  20.4  33.5  ...  35.4   \n",
              "\n",
              "   FTRD  2P_O  2P_D  3P_O  3P_D  ADJ_T   WAB  SEED  windex  \n",
              "2  26.0  52.9  46.5  37.4  36.9   65.5   2.3   6.0       0  \n",
              "3  33.4  52.6  46.3  40.3  34.7   61.9   8.6   1.0       1  \n",
              "4  37.3  52.7  43.4  41.3  32.5   70.1  11.6   1.0       1  \n",
              "5  32.0  52.6  46.1  34.4  36.2   69.0   6.7   1.0       0  \n",
              "6  28.0  47.2  48.1  36.0  30.7   65.5  -0.3  10.0       0  \n",
              "\n",
              "[5 rows x 21 columns]"
            ],
            "text/html": [
              "\n",
              "  <div id=\"df-b0510753-5c22-4ffe-a069-27465e88822f\">\n",
              "    <div class=\"colab-df-container\">\n",
              "      <div>\n",
              "<style scoped>\n",
              "    .dataframe tbody tr th:only-of-type {\n",
              "        vertical-align: middle;\n",
              "    }\n",
              "\n",
              "    .dataframe tbody tr th {\n",
              "        vertical-align: top;\n",
              "    }\n",
              "\n",
              "    .dataframe thead th {\n",
              "        text-align: right;\n",
              "    }\n",
              "</style>\n",
              "<table border=\"1\" class=\"dataframe\">\n",
              "  <thead>\n",
              "    <tr style=\"text-align: right;\">\n",
              "      <th></th>\n",
              "      <th>G</th>\n",
              "      <th>W</th>\n",
              "      <th>ADJOE</th>\n",
              "      <th>ADJDE</th>\n",
              "      <th>BARTHAG</th>\n",
              "      <th>EFG_O</th>\n",
              "      <th>EFG_D</th>\n",
              "      <th>TOR</th>\n",
              "      <th>TORD</th>\n",
              "      <th>ORB</th>\n",
              "      <th>...</th>\n",
              "      <th>FTR</th>\n",
              "      <th>FTRD</th>\n",
              "      <th>2P_O</th>\n",
              "      <th>2P_D</th>\n",
              "      <th>3P_O</th>\n",
              "      <th>3P_D</th>\n",
              "      <th>ADJ_T</th>\n",
              "      <th>WAB</th>\n",
              "      <th>SEED</th>\n",
              "      <th>windex</th>\n",
              "    </tr>\n",
              "  </thead>\n",
              "  <tbody>\n",
              "    <tr>\n",
              "      <th>2</th>\n",
              "      <td>36</td>\n",
              "      <td>24</td>\n",
              "      <td>118.3</td>\n",
              "      <td>103.3</td>\n",
              "      <td>0.8269</td>\n",
              "      <td>54.0</td>\n",
              "      <td>49.5</td>\n",
              "      <td>15.3</td>\n",
              "      <td>14.8</td>\n",
              "      <td>32.7</td>\n",
              "      <td>...</td>\n",
              "      <td>32.9</td>\n",
              "      <td>26.0</td>\n",
              "      <td>52.9</td>\n",
              "      <td>46.5</td>\n",
              "      <td>37.4</td>\n",
              "      <td>36.9</td>\n",
              "      <td>65.5</td>\n",
              "      <td>2.3</td>\n",
              "      <td>6.0</td>\n",
              "      <td>0</td>\n",
              "    </tr>\n",
              "    <tr>\n",
              "      <th>3</th>\n",
              "      <td>37</td>\n",
              "      <td>29</td>\n",
              "      <td>119.9</td>\n",
              "      <td>91.0</td>\n",
              "      <td>0.9600</td>\n",
              "      <td>54.8</td>\n",
              "      <td>48.4</td>\n",
              "      <td>15.1</td>\n",
              "      <td>18.8</td>\n",
              "      <td>29.9</td>\n",
              "      <td>...</td>\n",
              "      <td>32.1</td>\n",
              "      <td>33.4</td>\n",
              "      <td>52.6</td>\n",
              "      <td>46.3</td>\n",
              "      <td>40.3</td>\n",
              "      <td>34.7</td>\n",
              "      <td>61.9</td>\n",
              "      <td>8.6</td>\n",
              "      <td>1.0</td>\n",
              "      <td>1</td>\n",
              "    </tr>\n",
              "    <tr>\n",
              "      <th>4</th>\n",
              "      <td>37</td>\n",
              "      <td>32</td>\n",
              "      <td>120.9</td>\n",
              "      <td>90.4</td>\n",
              "      <td>0.9662</td>\n",
              "      <td>55.7</td>\n",
              "      <td>45.1</td>\n",
              "      <td>17.8</td>\n",
              "      <td>18.5</td>\n",
              "      <td>32.2</td>\n",
              "      <td>...</td>\n",
              "      <td>38.6</td>\n",
              "      <td>37.3</td>\n",
              "      <td>52.7</td>\n",
              "      <td>43.4</td>\n",
              "      <td>41.3</td>\n",
              "      <td>32.5</td>\n",
              "      <td>70.1</td>\n",
              "      <td>11.6</td>\n",
              "      <td>1.0</td>\n",
              "      <td>1</td>\n",
              "    </tr>\n",
              "    <tr>\n",
              "      <th>5</th>\n",
              "      <td>37</td>\n",
              "      <td>30</td>\n",
              "      <td>118.4</td>\n",
              "      <td>96.2</td>\n",
              "      <td>0.9163</td>\n",
              "      <td>52.3</td>\n",
              "      <td>48.9</td>\n",
              "      <td>16.1</td>\n",
              "      <td>20.2</td>\n",
              "      <td>34.1</td>\n",
              "      <td>...</td>\n",
              "      <td>40.3</td>\n",
              "      <td>32.0</td>\n",
              "      <td>52.6</td>\n",
              "      <td>46.1</td>\n",
              "      <td>34.4</td>\n",
              "      <td>36.2</td>\n",
              "      <td>69.0</td>\n",
              "      <td>6.7</td>\n",
              "      <td>1.0</td>\n",
              "      <td>0</td>\n",
              "    </tr>\n",
              "    <tr>\n",
              "      <th>6</th>\n",
              "      <td>37</td>\n",
              "      <td>23</td>\n",
              "      <td>111.9</td>\n",
              "      <td>93.6</td>\n",
              "      <td>0.8857</td>\n",
              "      <td>50.0</td>\n",
              "      <td>47.3</td>\n",
              "      <td>18.1</td>\n",
              "      <td>20.4</td>\n",
              "      <td>33.5</td>\n",
              "      <td>...</td>\n",
              "      <td>35.4</td>\n",
              "      <td>28.0</td>\n",
              "      <td>47.2</td>\n",
              "      <td>48.1</td>\n",
              "      <td>36.0</td>\n",
              "      <td>30.7</td>\n",
              "      <td>65.5</td>\n",
              "      <td>-0.3</td>\n",
              "      <td>10.0</td>\n",
              "      <td>0</td>\n",
              "    </tr>\n",
              "  </tbody>\n",
              "</table>\n",
              "<p>5 rows × 21 columns</p>\n",
              "</div>\n",
              "      <button class=\"colab-df-convert\" onclick=\"convertToInteractive('df-b0510753-5c22-4ffe-a069-27465e88822f')\"\n",
              "              title=\"Convert this dataframe to an interactive table.\"\n",
              "              style=\"display:none;\">\n",
              "        \n",
              "  <svg xmlns=\"http://www.w3.org/2000/svg\" height=\"24px\"viewBox=\"0 0 24 24\"\n",
              "       width=\"24px\">\n",
              "    <path d=\"M0 0h24v24H0V0z\" fill=\"none\"/>\n",
              "    <path d=\"M18.56 5.44l.94 2.06.94-2.06 2.06-.94-2.06-.94-.94-2.06-.94 2.06-2.06.94zm-11 1L8.5 8.5l.94-2.06 2.06-.94-2.06-.94L8.5 2.5l-.94 2.06-2.06.94zm10 10l.94 2.06.94-2.06 2.06-.94-2.06-.94-.94-2.06-.94 2.06-2.06.94z\"/><path d=\"M17.41 7.96l-1.37-1.37c-.4-.4-.92-.59-1.43-.59-.52 0-1.04.2-1.43.59L10.3 9.45l-7.72 7.72c-.78.78-.78 2.05 0 2.83L4 21.41c.39.39.9.59 1.41.59.51 0 1.02-.2 1.41-.59l7.78-7.78 2.81-2.81c.8-.78.8-2.07 0-2.86zM5.41 20L4 18.59l7.72-7.72 1.47 1.35L5.41 20z\"/>\n",
              "  </svg>\n",
              "      </button>\n",
              "      \n",
              "  <style>\n",
              "    .colab-df-container {\n",
              "      display:flex;\n",
              "      flex-wrap:wrap;\n",
              "      gap: 12px;\n",
              "    }\n",
              "\n",
              "    .colab-df-convert {\n",
              "      background-color: #E8F0FE;\n",
              "      border: none;\n",
              "      border-radius: 50%;\n",
              "      cursor: pointer;\n",
              "      display: none;\n",
              "      fill: #1967D2;\n",
              "      height: 32px;\n",
              "      padding: 0 0 0 0;\n",
              "      width: 32px;\n",
              "    }\n",
              "\n",
              "    .colab-df-convert:hover {\n",
              "      background-color: #E2EBFA;\n",
              "      box-shadow: 0px 1px 2px rgba(60, 64, 67, 0.3), 0px 1px 3px 1px rgba(60, 64, 67, 0.15);\n",
              "      fill: #174EA6;\n",
              "    }\n",
              "\n",
              "    [theme=dark] .colab-df-convert {\n",
              "      background-color: #3B4455;\n",
              "      fill: #D2E3FC;\n",
              "    }\n",
              "\n",
              "    [theme=dark] .colab-df-convert:hover {\n",
              "      background-color: #434B5C;\n",
              "      box-shadow: 0px 1px 3px 1px rgba(0, 0, 0, 0.15);\n",
              "      filter: drop-shadow(0px 1px 2px rgba(0, 0, 0, 0.3));\n",
              "      fill: #FFFFFF;\n",
              "    }\n",
              "  </style>\n",
              "\n",
              "      <script>\n",
              "        const buttonEl =\n",
              "          document.querySelector('#df-b0510753-5c22-4ffe-a069-27465e88822f button.colab-df-convert');\n",
              "        buttonEl.style.display =\n",
              "          google.colab.kernel.accessAllowed ? 'block' : 'none';\n",
              "\n",
              "        async function convertToInteractive(key) {\n",
              "          const element = document.querySelector('#df-b0510753-5c22-4ffe-a069-27465e88822f');\n",
              "          const dataTable =\n",
              "            await google.colab.kernel.invokeFunction('convertToInteractive',\n",
              "                                                     [key], {});\n",
              "          if (!dataTable) return;\n",
              "\n",
              "          const docLinkHtml = 'Like what you see? Visit the ' +\n",
              "            '<a target=\"_blank\" href=https://colab.research.google.com/notebooks/data_table.ipynb>data table notebook</a>'\n",
              "            + ' to learn more about interactive tables.';\n",
              "          element.innerHTML = '';\n",
              "          dataTable['output_type'] = 'display_data';\n",
              "          await google.colab.output.renderOutput(dataTable, element);\n",
              "          const docLink = document.createElement('div');\n",
              "          docLink.innerHTML = docLinkHtml;\n",
              "          element.appendChild(docLink);\n",
              "        }\n",
              "      </script>\n",
              "    </div>\n",
              "  </div>\n",
              "  "
            ]
          },
          "metadata": {},
          "execution_count": 18
        }
      ]
    },
    {
      "cell_type": "markdown",
      "source": [
        "What are our lables? Round where the given team was eliminated or where their season ended (R68 = First Four, R64 = Round of 64, R32 = Round of 32, S16 = Sweet Sixteen, E8 = Elite Eight, F4 = Final Four, 2ND = Runner-up, Champion = Winner of the NCAA March Madness Tournament for that given year)|\n"
      ],
      "metadata": {
        "id": "IisLi2J8HAB-"
      }
    },
    {
      "cell_type": "code",
      "source": [
        "y = df1['POSTSEASON'].values\n",
        "y[0:5]"
      ],
      "metadata": {
        "trusted": true,
        "colab": {
          "base_uri": "https://localhost:8080/"
        },
        "id": "orhlVjKgHAB-",
        "outputId": "fdfd88f3-7ed5-474d-8e70-129a7507e3dd"
      },
      "execution_count": null,
      "outputs": [
        {
          "output_type": "execute_result",
          "data": {
            "text/plain": [
              "array(['E8', 'E8', 'E8', 'E8', 'F4'], dtype=object)"
            ]
          },
          "metadata": {},
          "execution_count": 19
        }
      ]
    },
    {
      "cell_type": "markdown",
      "source": [
        "## Normalize Data\n"
      ],
      "metadata": {
        "id": "gogP5aVbHAB-"
      }
    },
    {
      "cell_type": "markdown",
      "source": [
        "Data Standardization gives data zero mean and unit variance (technically should be done after train test split )\n"
      ],
      "metadata": {
        "id": "Rmxqb76rHAB-"
      }
    },
    {
      "cell_type": "code",
      "source": [
        "X= preprocessing.StandardScaler().fit(X).transform(X)\n",
        "X[0:5]"
      ],
      "metadata": {
        "trusted": true,
        "colab": {
          "base_uri": "https://localhost:8080/"
        },
        "id": "RKCRx1rBHAB-",
        "outputId": "d016ac52-4f92-414a-9c57-be88d06e5eb5"
      },
      "execution_count": null,
      "outputs": [
        {
          "output_type": "execute_result",
          "data": {
            "text/plain": [
              "array([[-0.43331874, -1.26140173,  0.28034482,  2.74329908, -2.45717765,\n",
              "         0.10027963,  0.94171924, -1.16188145, -1.71391372,  0.12750511,\n",
              "         1.33368704, -0.4942211 , -0.87998988,  0.02784185,  0.00307239,\n",
              "         0.22576157,  1.59744386, -1.12106011, -1.0448016 ,  0.49716104,\n",
              "        -0.6882472 ],\n",
              "       [ 0.40343468,  0.35874728,  0.64758014, -0.90102957,  1.127076  ,\n",
              "         0.39390887,  0.38123706, -1.29466791, -0.03522254, -0.62979797,\n",
              "        -1.31585883, -0.68542235,  0.55458056, -0.07167795, -0.0829545 ,\n",
              "         1.32677295,  0.65081046, -2.369021  ,  0.98050611, -1.14054592,\n",
              "         1.45296631],\n",
              "       [ 0.40343468,  1.33083669,  0.87710222, -1.0788017 ,  1.29403598,\n",
              "         0.72424177, -1.30020946,  0.49794919, -0.16112438, -0.00772758,\n",
              "        -0.27908001,  0.86808783,  1.31063795, -0.03850468, -1.33034432,\n",
              "         1.70643205, -0.29582294,  0.47355659,  1.94493836, -1.14054592,\n",
              "         1.45296631],\n",
              "       [ 0.40343468,  0.68277708,  0.30329703,  0.63966222, -0.04972253,\n",
              "        -0.52368251,  0.63600169, -0.63073565,  0.55231938,  0.50615665,\n",
              "         0.71929959,  1.2743905 ,  0.28317534, -0.07167795, -0.16898138,\n",
              "        -0.91321572,  1.29624232,  0.0922352 ,  0.36969903, -1.14054592,\n",
              "        -0.6882472 ],\n",
              "       [ 0.40343468, -1.58543153, -1.18859646, -0.13068368, -0.87375079,\n",
              "        -1.36786658, -0.17924511,  0.69712887,  0.63625394,  0.34387742,\n",
              "         2.56246194,  0.10328282, -0.49226814, -1.8630343 ,  0.69128747,\n",
              "        -0.30576117, -1.07034117, -1.12106011, -1.88064288,  1.80732661,\n",
              "        -0.6882472 ]])"
            ]
          },
          "metadata": {},
          "execution_count": 20
        }
      ]
    },
    {
      "cell_type": "markdown",
      "source": [
        "## Training and Validation\n"
      ],
      "metadata": {
        "id": "gI2_ouK5HAB-"
      }
    },
    {
      "cell_type": "markdown",
      "source": [
        "Split the data into Training and Validation data.\n"
      ],
      "metadata": {
        "id": "0jtw4yUvHAB-"
      }
    },
    {
      "cell_type": "code",
      "source": [
        "# We split the X into train and test to find the best k\n",
        "from sklearn.model_selection import train_test_split\n",
        "X_train, X_val, y_train, y_val = train_test_split(X, y, test_size=0.2, random_state=4)\n",
        "print ('Train set:', X_train.shape,  y_train.shape)\n",
        "print ('Validation set:', X_val.shape,  y_val.shape)"
      ],
      "metadata": {
        "trusted": true,
        "colab": {
          "base_uri": "https://localhost:8080/"
        },
        "id": "ARBrmYDeHAB-",
        "outputId": "5d9778b4-5ab5-443e-c6d1-4a778548b382"
      },
      "execution_count": null,
      "outputs": [
        {
          "output_type": "stream",
          "name": "stdout",
          "text": [
            "Train set: (44, 21) (44,)\n",
            "Validation set: (12, 21) (12,)\n"
          ]
        }
      ]
    },
    {
      "cell_type": "markdown",
      "source": [
        "# Classification\n"
      ],
      "metadata": {
        "id": "wIIm3andHAB-"
      }
    },
    {
      "cell_type": "markdown",
      "source": [
        "Now, it is your turn, use the training set to build an accurate model. Then use the validation set  to report the accuracy of the model\n",
        "You should use the following algorithm:\n",
        "\n",
        "*   K Nearest Neighbor(KNN)\n",
        "*   Decision Tree\n",
        "*   Support Vector Machine\n",
        "*   Logistic Regression\n"
      ],
      "metadata": {
        "id": "LuKSWRQdHAB-"
      }
    },
    {
      "cell_type": "markdown",
      "source": [
        "# K Nearest Neighbor(KNN)\n",
        "\n",
        "<b>Question  1 </b> Build a KNN model using a value of k equals five, find the accuracy on the validation data (X_val and y_val)\n"
      ],
      "metadata": {
        "id": "SUj0pF_lHAB-"
      }
    },
    {
      "cell_type": "markdown",
      "source": [
        "You can use <code> accuracy_score</cdoe>\n"
      ],
      "metadata": {
        "id": "mE22wuqjHAB-"
      }
    },
    {
      "cell_type": "code",
      "source": [
        "from sklearn.metrics import accuracy_score\n",
        "from sklearn.neighbors import KNeighborsClassifier"
      ],
      "metadata": {
        "trusted": true,
        "id": "v99d8xjDHAB-"
      },
      "execution_count": null,
      "outputs": []
    },
    {
      "cell_type": "markdown",
      "source": [
        "<b>Question  2</b> Determine and print the accuracy for the first 15 values of k on the validation data:\n"
      ],
      "metadata": {
        "id": "7AlHewSnHAB-"
      }
    },
    {
      "cell_type": "code",
      "source": [
        "k = 5\n",
        "# Train model and predict\n",
        "neigh = KNeighborsClassifier(n_neighbors = k).fit(X_train, y_train)\n",
        "neigh"
      ],
      "metadata": {
        "trusted": true,
        "colab": {
          "base_uri": "https://localhost:8080/"
        },
        "id": "2YbaIYNCHAB-",
        "outputId": "fcf9a47b-77a9-4fdd-8de2-262d13473605"
      },
      "execution_count": null,
      "outputs": [
        {
          "output_type": "execute_result",
          "data": {
            "text/plain": [
              "KNeighborsClassifier()"
            ]
          },
          "metadata": {},
          "execution_count": 23
        }
      ]
    },
    {
      "cell_type": "code",
      "source": [
        "# make prediction on the test dataset\n",
        "yhat = neigh.predict(X_val)\n",
        "yhat[0:5]"
      ],
      "metadata": {
        "trusted": true,
        "colab": {
          "base_uri": "https://localhost:8080/"
        },
        "id": "2W1vNgfMHAB-",
        "outputId": "23608dbf-2514-494e-f8a7-d396ee81e0c4"
      },
      "execution_count": null,
      "outputs": [
        {
          "output_type": "execute_result",
          "data": {
            "text/plain": [
              "array(['S16', 'S16', 'S16', 'E8', 'E8'], dtype=object)"
            ]
          },
          "metadata": {},
          "execution_count": 24
        }
      ]
    },
    {
      "cell_type": "code",
      "source": [
        "from sklearn import metrics\n",
        "print('Train set Accuracy: ', metrics.accuracy_score(y_train, neigh.predict(X_train)))\n",
        "print('Test set Accuracy for the first 15 values: ', metrics.accuracy_score(y_val[0:15],yhat[0:15]))"
      ],
      "metadata": {
        "trusted": true,
        "colab": {
          "base_uri": "https://localhost:8080/"
        },
        "id": "Jzy9V4ZJHAB-",
        "outputId": "39dfacaf-b9b6-4b40-802e-7f6b032d779f"
      },
      "execution_count": null,
      "outputs": [
        {
          "output_type": "stream",
          "name": "stdout",
          "text": [
            "Train set Accuracy:  0.6363636363636364\n",
            "Test set Accuracy for the first 15 values:  0.6666666666666666\n"
          ]
        }
      ]
    },
    {
      "cell_type": "markdown",
      "source": [
        "# Decision Tree\n"
      ],
      "metadata": {
        "id": "hswB4SkPHAB-"
      }
    },
    {
      "cell_type": "markdown",
      "source": [
        "The following lines of code fit a <code>DecisionTreeClassifier</code>:\n"
      ],
      "metadata": {
        "id": "2D6sUtcLHAB-"
      }
    },
    {
      "cell_type": "code",
      "source": [
        "from sklearn.tree import DecisionTreeClassifier\n",
        "from sklearn import tree"
      ],
      "metadata": {
        "trusted": true,
        "id": "9IYga_j1HAB_"
      },
      "execution_count": null,
      "outputs": []
    },
    {
      "cell_type": "markdown",
      "source": [
        "<b>Question  3</b> Determine the minumum   value for the parameter <code>max_depth</code> that improves results\n"
      ],
      "metadata": {
        "id": "B332Vy86HAB_"
      }
    },
    {
      "cell_type": "code",
      "source": [
        "drugTree = DecisionTreeClassifier(criterion='entropy', max_depth=1)\n",
        "drugTree"
      ],
      "metadata": {
        "trusted": true,
        "colab": {
          "base_uri": "https://localhost:8080/"
        },
        "id": "QTnuYJ1uHAB_",
        "outputId": "5507bf37-2c02-4554-bcdf-b98fbabe4df7"
      },
      "execution_count": null,
      "outputs": [
        {
          "output_type": "execute_result",
          "data": {
            "text/plain": [
              "DecisionTreeClassifier(criterion='entropy', max_depth=1)"
            ]
          },
          "metadata": {},
          "execution_count": 27
        }
      ]
    },
    {
      "cell_type": "code",
      "source": [
        "drugTree.fit(X_train,y_train)"
      ],
      "metadata": {
        "trusted": true,
        "colab": {
          "base_uri": "https://localhost:8080/"
        },
        "id": "A2LCGhRKHAB_",
        "outputId": "cf142d68-21d8-40b3-80a0-4f2eeeed33b0"
      },
      "execution_count": null,
      "outputs": [
        {
          "output_type": "execute_result",
          "data": {
            "text/plain": [
              "DecisionTreeClassifier(criterion='entropy', max_depth=1)"
            ]
          },
          "metadata": {},
          "execution_count": 28
        }
      ]
    },
    {
      "cell_type": "code",
      "source": [
        "# make a prediction on the testing dataset\n",
        "predTree = drugTree.predict(X_val)\n",
        "\n",
        "print(predTree[0:5])\n",
        "print(y_val[0:5])"
      ],
      "metadata": {
        "trusted": true,
        "colab": {
          "base_uri": "https://localhost:8080/"
        },
        "id": "J7cIvQ2eHAB_",
        "outputId": "1fb077d1-18a2-4a75-e8bc-6f50e381b67d"
      },
      "execution_count": null,
      "outputs": [
        {
          "output_type": "stream",
          "name": "stdout",
          "text": [
            "['S16' 'S16' 'S16' 'S16' 'S16']\n",
            "['F4' 'S16' 'S16' 'S16' 'S16']\n"
          ]
        }
      ]
    },
    {
      "cell_type": "code",
      "source": [
        "# Evaluation\n",
        "print(\"DecisionTrees' Accuracy: \", metrics.accuracy_score(y_val, predTree))"
      ],
      "metadata": {
        "trusted": true,
        "colab": {
          "base_uri": "https://localhost:8080/"
        },
        "id": "IOlRMbgUHAB_",
        "outputId": "7e25f1be-30d6-4fd1-f17d-f8a35d00ec19"
      },
      "execution_count": null,
      "outputs": [
        {
          "output_type": "stream",
          "name": "stdout",
          "text": [
            "DecisionTrees' Accuracy:  0.6666666666666666\n"
          ]
        }
      ]
    },
    {
      "cell_type": "code",
      "source": [
        "# Visualization\n",
        "tree.plot_tree(drugTree)\n",
        "plt.show()"
      ],
      "metadata": {
        "trusted": true,
        "colab": {
          "base_uri": "https://localhost:8080/",
          "height": 248
        },
        "id": "Ux18WUMeHAB_",
        "outputId": "133fc28d-db90-4e5d-80eb-5702ced7ee6c"
      },
      "execution_count": null,
      "outputs": [
        {
          "output_type": "display_data",
          "data": {
            "text/plain": [
              "<Figure size 432x288 with 1 Axes>"
            ],
            "image/png": "[encoded data removed]"
          },
          "metadata": {
            "needs_background": "light"
          }
        }
      ]
    },
    {
      "cell_type": "markdown",
      "source": [
        "# Support Vector Machine\n"
      ],
      "metadata": {
        "id": "i92MQ-HnHAB_"
      }
    },
    {
      "cell_type": "markdown",
      "source": [
        "<b>Question  4</b> Train the support  vector machine model and determine the accuracy on the validation data for each kernel. Find the kernel (linear, poly, rbf, sigmoid) that provides the best score on the validation data and train a SVM using it.\n"
      ],
      "metadata": {
        "id": "1tYAwXkZHAB_"
      }
    },
    {
      "cell_type": "code",
      "source": [
        "from sklearn import svm\n",
        "from sklearn.metrics import classification_report, confusion_matrix, f1_score\n",
        "import itertools\n",
        "from sklearn import metrics"
      ],
      "metadata": {
        "trusted": true,
        "id": "cvJrooi0HAB_"
      },
      "execution_count": null,
      "outputs": []
    },
    {
      "cell_type": "code",
      "source": [
        "X_train, X_val, y_train, y_val = train_test_split(X, y, test_size=0.2, random_state=4)\n",
        "print ('Train set:', X_train.shape,  y_train.shape)\n",
        "print ('Validation set:', X_val.shape,  y_val.shape)"
      ],
      "metadata": {
        "trusted": true,
        "colab": {
          "base_uri": "https://localhost:8080/"
        },
        "id": "JFbAP8mWHAB_",
        "outputId": "ab414d1e-1f85-4599-d87e-d3be6a644ec0"
      },
      "execution_count": null,
      "outputs": [
        {
          "output_type": "stream",
          "name": "stdout",
          "text": [
            "Train set: (44, 21) (44,)\n",
            "Validation set: (12, 21) (12,)\n"
          ]
        }
      ]
    },
    {
      "cell_type": "code",
      "source": [
        "clf = svm.SVC(kernel='rbf')\n",
        "clf.fit(X_train, y_train)"
      ],
      "metadata": {
        "trusted": true,
        "colab": {
          "base_uri": "https://localhost:8080/"
        },
        "id": "-kzxalY-HAB_",
        "outputId": "c0455c37-a799-40de-a6b9-95540cce32ae"
      },
      "execution_count": null,
      "outputs": [
        {
          "output_type": "execute_result",
          "data": {
            "text/plain": [
              "SVC()"
            ]
          },
          "metadata": {},
          "execution_count": 34
        }
      ]
    },
    {
      "cell_type": "code",
      "source": [
        "# Let's make a predict\n",
        "yhat = clf.predict(X_val)\n",
        "yhat[0:5]"
      ],
      "metadata": {
        "trusted": true,
        "colab": {
          "base_uri": "https://localhost:8080/"
        },
        "id": "S-GxabaAHAB_",
        "outputId": "834e73ff-8d01-4e2f-97d7-a3ffcbec5599"
      },
      "execution_count": null,
      "outputs": [
        {
          "output_type": "execute_result",
          "data": {
            "text/plain": [
              "array(['S16', 'S16', 'S16', 'S16', 'E8'], dtype=object)"
            ]
          },
          "metadata": {},
          "execution_count": 35
        }
      ]
    },
    {
      "cell_type": "code",
      "source": [
        "# Calculate the conufsion matrix for the test set\n",
        "cm = confusion_matrix(y_val, yhat)\n",
        "# Calculate the F1 score for each class\n",
        "f1_scores = f1_score(y_val, yhat, average='micro')\n",
        "# Calculate the weighted F1 score\n",
        "weighted_f1_score = f1_score(y_val, yhat, average='micro')\n",
        "# Print the confusion matrix and F1 scores\n",
        "print('Confusion Matrix:\\n', cm)\n",
        "print('F1 Scores:\\n', f1_scores)\n",
        "print(\"weighted F1 score: \", weighted_f1_score)"
      ],
      "metadata": {
        "trusted": true,
        "colab": {
          "base_uri": "https://localhost:8080/"
        },
        "id": "kfaTA4JZHAB_",
        "outputId": "802701e7-1f72-48db-ae0c-b8ba90e048d0"
      },
      "execution_count": null,
      "outputs": [
        {
          "output_type": "stream",
          "name": "stdout",
          "text": [
            "Confusion Matrix:\n",
            " [[0 0 2]\n",
            " [0 0 2]\n",
            " [1 0 7]]\n",
            "F1 Scores:\n",
            " 0.5833333333333334\n",
            "weighted F1 score:  0.5833333333333334\n"
          ]
        }
      ]
    },
    {
      "cell_type": "code",
      "source": [
        "# Visualize the confusion matrix\n",
        "# Define the class names\n",
        "class_names = ['E8','F4','S16']\n",
        "# Plot the confusion matrix using a heatmap\n",
        "sns.heatmap(cm, annot=True, cmap='Blues',xticklabels=class_names, yticklabels=class_names)\n",
        "\n",
        "# Set the axis labels and title\n",
        "plt.xlabel('Predicted Labels')\n",
        "plt.ylabel('True Labels')\n",
        "plt.title('Confusion Matrix')\n",
        "\n",
        "# Show the plot\n",
        "plt.show()"
      ],
      "metadata": {
        "trusted": true,
        "colab": {
          "base_uri": "https://localhost:8080/",
          "height": 295
        },
        "id": "MZm6bE93HAB_",
        "outputId": "2f839115-1e34-488e-a805-034ad4ccc2b5"
      },
      "execution_count": null,
      "outputs": [
        {
          "output_type": "display_data",
          "data": {
            "text/plain": [
              "<Figure size 432x288 with 2 Axes>"
            ],
            "image/png": "[encoded data removed]"
          },
          "metadata": {
            "needs_background": "light"
          }
        }
      ]
    },
    {
      "cell_type": "code",
      "source": [
        "# Get the classification report for the KNN model\n",
        "report = classification_report(y_val, yhat)\n",
        "print(report)"
      ],
      "metadata": {
        "trusted": true,
        "colab": {
          "base_uri": "https://localhost:8080/"
        },
        "id": "QzfaZPJVHAB_",
        "outputId": "0013c6ea-1521-4cda-d0b0-27b387a6ddb5"
      },
      "execution_count": null,
      "outputs": [
        {
          "output_type": "stream",
          "name": "stdout",
          "text": [
            "              precision    recall  f1-score   support\n",
            "\n",
            "          E8       0.00      0.00      0.00         2\n",
            "          F4       0.00      0.00      0.00         2\n",
            "         S16       0.64      0.88      0.74         8\n",
            "\n",
            "    accuracy                           0.58        12\n",
            "   macro avg       0.21      0.29      0.25        12\n",
            "weighted avg       0.42      0.58      0.49        12\n",
            "\n"
          ]
        }
      ]
    },
    {
      "cell_type": "markdown",
      "source": [
        "# Logistic Regression\n"
      ],
      "metadata": {
        "id": "DxecGEIxHAB_"
      }
    },
    {
      "cell_type": "markdown",
      "source": [
        "<b>Question 5</b> Train a logistic regression model and determine the accuracy of the validation data (set C=0.01)\n"
      ],
      "metadata": {
        "id": "7PWKgqptHACA"
      }
    },
    {
      "cell_type": "code",
      "source": [
        "from sklearn.linear_model import LogisticRegression"
      ],
      "metadata": {
        "trusted": true,
        "id": "hlWFO2g1HACA"
      },
      "execution_count": null,
      "outputs": []
    },
    {
      "cell_type": "code",
      "source": [
        "LR = LogisticRegression(multi_class=\"ovr\",C=0.01, solver='liblinear').fit(X_train, y_train)\n",
        "LR"
      ],
      "metadata": {
        "trusted": true,
        "colab": {
          "base_uri": "https://localhost:8080/"
        },
        "id": "LceWxNR6HACA",
        "outputId": "a8b177e0-845c-41bb-ff54-54eed28778d6"
      },
      "execution_count": null,
      "outputs": [
        {
          "output_type": "execute_result",
          "data": {
            "text/plain": [
              "LogisticRegression(C=0.01, multi_class='ovr', solver='liblinear')"
            ]
          },
          "metadata": {},
          "execution_count": 40
        }
      ]
    },
    {
      "cell_type": "code",
      "source": [
        "# predict the test set\n",
        "yhat = LR.predict(X_val)\n",
        "yhat"
      ],
      "metadata": {
        "trusted": true,
        "colab": {
          "base_uri": "https://localhost:8080/"
        },
        "id": "5RWjsioxHACA",
        "outputId": "b0857cc2-c95e-4045-f148-3b4d9daab294"
      },
      "execution_count": null,
      "outputs": [
        {
          "output_type": "execute_result",
          "data": {
            "text/plain": [
              "array(['F4', 'S16', 'E8', 'E8', 'E8', 'E8', 'S16', 'F4', 'E8', 'S16',\n",
              "       'S16', 'S16'], dtype=object)"
            ]
          },
          "metadata": {},
          "execution_count": 41
        }
      ]
    },
    {
      "cell_type": "code",
      "source": [
        "# this returns estimates for all classes\n",
        "yhat_prob = LR.predict_proba(X_val)\n",
        "yhat_prob"
      ],
      "metadata": {
        "trusted": true,
        "colab": {
          "base_uri": "https://localhost:8080/"
        },
        "id": "Gzq7ADH-HACA",
        "outputId": "aa4efc71-c1b2-4aad-ac79-fb0a2931bbff"
      },
      "execution_count": null,
      "outputs": [
        {
          "output_type": "execute_result",
          "data": {
            "text/plain": [
              "array([[0.31220273, 0.3562491 , 0.33154818],\n",
              "       [0.32510152, 0.32839869, 0.34649979],\n",
              "       [0.36167465, 0.30610437, 0.33222097],\n",
              "       [0.38701793, 0.35317957, 0.2598025 ],\n",
              "       [0.35426016, 0.32763412, 0.31810573],\n",
              "       [0.34432475, 0.31699257, 0.33868268],\n",
              "       [0.32217474, 0.33545881, 0.34236644],\n",
              "       [0.32767214, 0.34639684, 0.32593102],\n",
              "       [0.34880289, 0.31865572, 0.33254139],\n",
              "       [0.32108525, 0.30666601, 0.37224874],\n",
              "       [0.34287302, 0.30377031, 0.35335668],\n",
              "       [0.33284243, 0.29291228, 0.3742453 ]])"
            ]
          },
          "metadata": {},
          "execution_count": 42
        }
      ]
    },
    {
      "cell_type": "code",
      "source": [
        "# Evaluation\n",
        "print(\"Logistic Regression's Accuracy: \", metrics.accuracy_score(y_val, yhat))"
      ],
      "metadata": {
        "trusted": true,
        "colab": {
          "base_uri": "https://localhost:8080/"
        },
        "id": "4r2bOpeiHACA",
        "outputId": "5857793d-06fb-49da-af32-ed88915013a2"
      },
      "execution_count": null,
      "outputs": [
        {
          "output_type": "stream",
          "name": "stdout",
          "text": [
            "Logistic Regression's Accuracy:  0.5833333333333334\n"
          ]
        }
      ]
    },
    {
      "cell_type": "markdown",
      "source": [
        "# Model Evaluation using Test set\n"
      ],
      "metadata": {
        "id": "ZlpBuG6THACA"
      }
    },
    {
      "cell_type": "code",
      "source": [
        "from sklearn.metrics import f1_score\n",
        "# for f1_score please set the average parameter to 'micro'\n",
        "from sklearn.metrics import log_loss"
      ],
      "metadata": {
        "trusted": true,
        "id": "RaucwomoHACA"
      },
      "execution_count": null,
      "outputs": []
    },
    {
      "cell_type": "code",
      "source": [
        "def jaccard_index(predictions, true):\n",
        "    if (len(predictions) == len(true)):\n",
        "        intersect = 0;\n",
        "        for x,y in zip(predictions, true):\n",
        "            if (x == y):\n",
        "                intersect += 1\n",
        "        return intersect / (len(predictions) + len(true) - intersect)\n",
        "    else:\n",
        "        return -1"
      ],
      "metadata": {
        "trusted": true,
        "id": "cZBdKVvGHACA"
      },
      "execution_count": null,
      "outputs": []
    },
    {
      "cell_type": "markdown",
      "source": [
        "<b>Question  5</b> Calculate the  F1 score and Jaccard score for each model from above. Use the Hyperparameter that performed best on the validation data. **For f1\\_score please set the average parameter to 'micro'.**\n"
      ],
      "metadata": {
        "id": "8ErMcCQUHACA"
      }
    },
    {
      "cell_type": "markdown",
      "source": [
        "### Load Test set for evaluation\n"
      ],
      "metadata": {
        "id": "MbKTt5EoHACA"
      }
    },
    {
      "cell_type": "code",
      "source": [
        "test_df = pd.read_csv('https://s3-api.us-geo.objectstorage.softlayer.net/cf-courses-data/CognitiveClass/ML0120ENv3/Dataset/ML0101EN_EDX_skill_up/basketball_train.csv',error_bad_lines=False)\n",
        "test_df.head()"
      ],
      "metadata": {
        "trusted": true,
        "colab": {
          "base_uri": "https://localhost:8080/",
          "height": 236
        },
        "id": "4SQNJhUXHACA",
        "outputId": "6c27de6d-5171-43d8-8bd6-771df8d8c5d3"
      },
      "execution_count": null,
      "outputs": [
        {
          "output_type": "execute_result",
          "data": {
            "text/plain": [
              "             TEAM CONF   G   W  ADJOE  ADJDE  BARTHAG  EFG_O  EFG_D   TOR  \\\n",
              "0  North Carolina  ACC  40  33  123.3   94.9   0.9531   52.6   48.1  15.4   \n",
              "1       Villanova   BE  40  35  123.1   90.9   0.9703   56.1   46.7  16.3   \n",
              "2      Notre Dame  ACC  36  24  118.3  103.3   0.8269   54.0   49.5  15.3   \n",
              "3        Virginia  ACC  37  29  119.9   91.0   0.9600   54.8   48.4  15.1   \n",
              "4          Kansas  B12  37  32  120.9   90.4   0.9662   55.7   45.1  17.8   \n",
              "\n",
              "   ...  FTRD  2P_O  2P_D  3P_O  3P_D  ADJ_T   WAB  POSTSEASON  SEED  YEAR  \n",
              "0  ...  30.4  53.9  44.6  32.7  36.2   71.7   8.6         2ND   1.0  2016  \n",
              "1  ...  30.0  57.4  44.1  36.2  33.9   66.7   8.9   Champions   2.0  2016  \n",
              "2  ...  26.0  52.9  46.5  37.4  36.9   65.5   2.3          E8   6.0  2016  \n",
              "3  ...  33.4  52.6  46.3  40.3  34.7   61.9   8.6          E8   1.0  2016  \n",
              "4  ...  37.3  52.7  43.4  41.3  32.5   70.1  11.6          E8   1.0  2016  \n",
              "\n",
              "[5 rows x 24 columns]"
            ],
            "text/html": [
              "\n",
              "  <div id=\"df-87584a87-d6d9-4c8e-94df-d0051da95a3a\">\n",
              "    <div class=\"colab-df-container\">\n",
              "      <div>\n",
              "<style scoped>\n",
              "    .dataframe tbody tr th:only-of-type {\n",
              "        vertical-align: middle;\n",
              "    }\n",
              "\n",
              "    .dataframe tbody tr th {\n",
              "        vertical-align: top;\n",
              "    }\n",
              "\n",
              "    .dataframe thead th {\n",
              "        text-align: right;\n",
              "    }\n",
              "</style>\n",
              "<table border=\"1\" class=\"dataframe\">\n",
              "  <thead>\n",
              "    <tr style=\"text-align: right;\">\n",
              "      <th></th>\n",
              "      <th>TEAM</th>\n",
              "      <th>CONF</th>\n",
              "      <th>G</th>\n",
              "      <th>W</th>\n",
              "      <th>ADJOE</th>\n",
              "      <th>ADJDE</th>\n",
              "      <th>BARTHAG</th>\n",
              "      <th>EFG_O</th>\n",
              "      <th>EFG_D</th>\n",
              "      <th>TOR</th>\n",
              "      <th>...</th>\n",
              "      <th>FTRD</th>\n",
              "      <th>2P_O</th>\n",
              "      <th>2P_D</th>\n",
              "      <th>3P_O</th>\n",
              "      <th>3P_D</th>\n",
              "      <th>ADJ_T</th>\n",
              "      <th>WAB</th>\n",
              "      <th>POSTSEASON</th>\n",
              "      <th>SEED</th>\n",
              "      <th>YEAR</th>\n",
              "    </tr>\n",
              "  </thead>\n",
              "  <tbody>\n",
              "    <tr>\n",
              "      <th>0</th>\n",
              "      <td>North Carolina</td>\n",
              "      <td>ACC</td>\n",
              "      <td>40</td>\n",
              "      <td>33</td>\n",
              "      <td>123.3</td>\n",
              "      <td>94.9</td>\n",
              "      <td>0.9531</td>\n",
              "      <td>52.6</td>\n",
              "      <td>48.1</td>\n",
              "      <td>15.4</td>\n",
              "      <td>...</td>\n",
              "      <td>30.4</td>\n",
              "      <td>53.9</td>\n",
              "      <td>44.6</td>\n",
              "      <td>32.7</td>\n",
              "      <td>36.2</td>\n",
              "      <td>71.7</td>\n",
              "      <td>8.6</td>\n",
              "      <td>2ND</td>\n",
              "      <td>1.0</td>\n",
              "      <td>2016</td>\n",
              "    </tr>\n",
              "    <tr>\n",
              "      <th>1</th>\n",
              "      <td>Villanova</td>\n",
              "      <td>BE</td>\n",
              "      <td>40</td>\n",
              "      <td>35</td>\n",
              "      <td>123.1</td>\n",
              "      <td>90.9</td>\n",
              "      <td>0.9703</td>\n",
              "      <td>56.1</td>\n",
              "      <td>46.7</td>\n",
              "      <td>16.3</td>\n",
              "      <td>...</td>\n",
              "      <td>30.0</td>\n",
              "      <td>57.4</td>\n",
              "      <td>44.1</td>\n",
              "      <td>36.2</td>\n",
              "      <td>33.9</td>\n",
              "      <td>66.7</td>\n",
              "      <td>8.9</td>\n",
              "      <td>Champions</td>\n",
              "      <td>2.0</td>\n",
              "      <td>2016</td>\n",
              "    </tr>\n",
              "    <tr>\n",
              "      <th>2</th>\n",
              "      <td>Notre Dame</td>\n",
              "      <td>ACC</td>\n",
              "      <td>36</td>\n",
              "      <td>24</td>\n",
              "      <td>118.3</td>\n",
              "      <td>103.3</td>\n",
              "      <td>0.8269</td>\n",
              "      <td>54.0</td>\n",
              "      <td>49.5</td>\n",
              "      <td>15.3</td>\n",
              "      <td>...</td>\n",
              "      <td>26.0</td>\n",
              "      <td>52.9</td>\n",
              "      <td>46.5</td>\n",
              "      <td>37.4</td>\n",
              "      <td>36.9</td>\n",
              "      <td>65.5</td>\n",
              "      <td>2.3</td>\n",
              "      <td>E8</td>\n",
              "      <td>6.0</td>\n",
              "      <td>2016</td>\n",
              "    </tr>\n",
              "    <tr>\n",
              "      <th>3</th>\n",
              "      <td>Virginia</td>\n",
              "      <td>ACC</td>\n",
              "      <td>37</td>\n",
              "      <td>29</td>\n",
              "      <td>119.9</td>\n",
              "      <td>91.0</td>\n",
              "      <td>0.9600</td>\n",
              "      <td>54.8</td>\n",
              "      <td>48.4</td>\n",
              "      <td>15.1</td>\n",
              "      <td>...</td>\n",
              "      <td>33.4</td>\n",
              "      <td>52.6</td>\n",
              "      <td>46.3</td>\n",
              "      <td>40.3</td>\n",
              "      <td>34.7</td>\n",
              "      <td>61.9</td>\n",
              "      <td>8.6</td>\n",
              "      <td>E8</td>\n",
              "      <td>1.0</td>\n",
              "      <td>2016</td>\n",
              "    </tr>\n",
              "    <tr>\n",
              "      <th>4</th>\n",
              "      <td>Kansas</td>\n",
              "      <td>B12</td>\n",
              "      <td>37</td>\n",
              "      <td>32</td>\n",
              "      <td>120.9</td>\n",
              "      <td>90.4</td>\n",
              "      <td>0.9662</td>\n",
              "      <td>55.7</td>\n",
              "      <td>45.1</td>\n",
              "      <td>17.8</td>\n",
              "      <td>...</td>\n",
              "      <td>37.3</td>\n",
              "      <td>52.7</td>\n",
              "      <td>43.4</td>\n",
              "      <td>41.3</td>\n",
              "      <td>32.5</td>\n",
              "      <td>70.1</td>\n",
              "      <td>11.6</td>\n",
              "      <td>E8</td>\n",
              "      <td>1.0</td>\n",
              "      <td>2016</td>\n",
              "    </tr>\n",
              "  </tbody>\n",
              "</table>\n",
              "<p>5 rows × 24 columns</p>\n",
              "</div>\n",
              "      <button class=\"colab-df-convert\" onclick=\"convertToInteractive('df-87584a87-d6d9-4c8e-94df-d0051da95a3a')\"\n",
              "              title=\"Convert this dataframe to an interactive table.\"\n",
              "              style=\"display:none;\">\n",
              "        \n",
              "  <svg xmlns=\"http://www.w3.org/2000/svg\" height=\"24px\"viewBox=\"0 0 24 24\"\n",
              "       width=\"24px\">\n",
              "    <path d=\"M0 0h24v24H0V0z\" fill=\"none\"/>\n",
              "    <path d=\"M18.56 5.44l.94 2.06.94-2.06 2.06-.94-2.06-.94-.94-2.06-.94 2.06-2.06.94zm-11 1L8.5 8.5l.94-2.06 2.06-.94-2.06-.94L8.5 2.5l-.94 2.06-2.06.94zm10 10l.94 2.06.94-2.06 2.06-.94-2.06-.94-.94-2.06-.94 2.06-2.06.94z\"/><path d=\"M17.41 7.96l-1.37-1.37c-.4-.4-.92-.59-1.43-.59-.52 0-1.04.2-1.43.59L10.3 9.45l-7.72 7.72c-.78.78-.78 2.05 0 2.83L4 21.41c.39.39.9.59 1.41.59.51 0 1.02-.2 1.41-.59l7.78-7.78 2.81-2.81c.8-.78.8-2.07 0-2.86zM5.41 20L4 18.59l7.72-7.72 1.47 1.35L5.41 20z\"/>\n",
              "  </svg>\n",
              "      </button>\n",
              "      \n",
              "  <style>\n",
              "    .colab-df-container {\n",
              "      display:flex;\n",
              "      flex-wrap:wrap;\n",
              "      gap: 12px;\n",
              "    }\n",
              "\n",
              "    .colab-df-convert {\n",
              "      background-color: #E8F0FE;\n",
              "      border: none;\n",
              "      border-radius: 50%;\n",
              "      cursor: pointer;\n",
              "      display: none;\n",
              "      fill: #1967D2;\n",
              "      height: 32px;\n",
              "      padding: 0 0 0 0;\n",
              "      width: 32px;\n",
              "    }\n",
              "\n",
              "    .colab-df-convert:hover {\n",
              "      background-color: #E2EBFA;\n",
              "      box-shadow: 0px 1px 2px rgba(60, 64, 67, 0.3), 0px 1px 3px 1px rgba(60, 64, 67, 0.15);\n",
              "      fill: #174EA6;\n",
              "    }\n",
              "\n",
              "    [theme=dark] .colab-df-convert {\n",
              "      background-color: #3B4455;\n",
              "      fill: #D2E3FC;\n",
              "    }\n",
              "\n",
              "    [theme=dark] .colab-df-convert:hover {\n",
              "      background-color: #434B5C;\n",
              "      box-shadow: 0px 1px 3px 1px rgba(0, 0, 0, 0.15);\n",
              "      filter: drop-shadow(0px 1px 2px rgba(0, 0, 0, 0.3));\n",
              "      fill: #FFFFFF;\n",
              "    }\n",
              "  </style>\n",
              "\n",
              "      <script>\n",
              "        const buttonEl =\n",
              "          document.querySelector('#df-87584a87-d6d9-4c8e-94df-d0051da95a3a button.colab-df-convert');\n",
              "        buttonEl.style.display =\n",
              "          google.colab.kernel.accessAllowed ? 'block' : 'none';\n",
              "\n",
              "        async function convertToInteractive(key) {\n",
              "          const element = document.querySelector('#df-87584a87-d6d9-4c8e-94df-d0051da95a3a');\n",
              "          const dataTable =\n",
              "            await google.colab.kernel.invokeFunction('convertToInteractive',\n",
              "                                                     [key], {});\n",
              "          if (!dataTable) return;\n",
              "\n",
              "          const docLinkHtml = 'Like what you see? Visit the ' +\n",
              "            '<a target=\"_blank\" href=https://colab.research.google.com/notebooks/data_table.ipynb>data table notebook</a>'\n",
              "            + ' to learn more about interactive tables.';\n",
              "          element.innerHTML = '';\n",
              "          dataTable['output_type'] = 'display_data';\n",
              "          await google.colab.output.renderOutput(dataTable, element);\n",
              "          const docLink = document.createElement('div');\n",
              "          docLink.innerHTML = docLinkHtml;\n",
              "          element.appendChild(docLink);\n",
              "        }\n",
              "      </script>\n",
              "    </div>\n",
              "  </div>\n",
              "  "
            ]
          },
          "metadata": {},
          "execution_count": 48
        }
      ]
    },
    {
      "cell_type": "code",
      "source": [
        "test_df['windex'] = np.where(test_df.WAB > 7, 'True', 'False')\n",
        "test_df1 = test_df[test_df['POSTSEASON'].str.contains('F4|S16|E8', na=False)]\n",
        "test_Feature = test_df1[['G', 'W', 'ADJOE', 'ADJDE', 'BARTHAG', 'EFG_O', 'EFG_D',\n",
        "       'TOR', 'TORD', 'ORB', 'DRB', 'FTR', 'FTRD', '2P_O', '2P_D', '3P_O',\n",
        "       '3P_D', 'ADJ_T', 'WAB', 'SEED', 'windex']]\n",
        "test_Feature['windex'].replace(to_replace=['False','True'], value=[0,1],inplace=True)\n",
        "test_X=test_Feature\n",
        "test_X= preprocessing.StandardScaler().fit(test_X).transform(test_X)\n",
        "test_X[0:5]"
      ],
      "metadata": {
        "trusted": true,
        "colab": {
          "base_uri": "https://localhost:8080/"
        },
        "id": "UrvjB7nnHACA",
        "outputId": "32a23ee2-fcdb-4a81-e4bf-cdac813e4c5b"
      },
      "execution_count": null,
      "outputs": [
        {
          "output_type": "execute_result",
          "data": {
            "text/plain": [
              "array([[-4.08074446e-01, -1.10135297e+00,  3.37365934e-01,\n",
              "         2.66479976e+00, -2.46831661e+00,  2.13703245e-01,\n",
              "         9.44090550e-01, -1.19216365e+00, -1.64348924e+00,\n",
              "         1.45405982e-02,  1.29523097e+00, -6.23533182e-01,\n",
              "        -9.31788560e-01,  1.42784371e-01,  1.68876201e-01,\n",
              "         2.84500844e-01,  1.62625961e+00, -8.36649260e-01,\n",
              "        -9.98500539e-01,  4.84319174e-01, -6.77003200e-01],\n",
              "       [ 3.63958290e-01,  3.26326807e-01,  7.03145068e-01,\n",
              "        -7.13778644e-01,  1.07370841e+00,  4.82633172e-01,\n",
              "         4.77498943e-01, -1.32975879e+00, -6.86193316e-02,\n",
              "        -7.35448152e-01, -1.35447914e+00, -8.06829025e-01,\n",
              "         3.41737757e-01,  4.96641291e-02,  9.40576311e-02,\n",
              "         1.37214061e+00,  6.93854620e-01, -2.00860931e+00,\n",
              "         9.80549967e-01, -1.19401460e+00,  1.47709789e+00],\n",
              "       [ 3.63958290e-01,  1.18293467e+00,  9.31757027e-01,\n",
              "        -8.78587347e-01,  1.23870131e+00,  7.85179340e-01,\n",
              "        -9.22275877e-01,  5.27775662e-01, -1.86734575e-01,\n",
              "        -1.19385964e-01, -3.17636057e-01,  6.82449703e-01,\n",
              "         1.01292055e+00,  8.07042098e-02, -9.90811637e-01,\n",
              "         1.74718880e+00, -2.38550367e-01,  6.60855252e-01,\n",
              "         1.92295497e+00, -1.19401460e+00,  1.47709789e+00],\n",
              "       [ 3.63958290e-01,  6.11862762e-01,  3.60227129e-01,\n",
              "         7.14563447e-01, -8.92254236e-02, -3.57772849e-01,\n",
              "         6.89586037e-01, -6.41783067e-01,  4.82585136e-01,\n",
              "         3.89534973e-01,  6.80805434e-01,  1.07195337e+00,\n",
              "         1.00800346e-01,  4.96641291e-02,  1.92390609e-02,\n",
              "        -8.40643737e-01,  1.32958529e+00,  3.02756347e-01,\n",
              "         3.83693465e-01, -1.19401460e+00, -6.77003200e-01],\n",
              "       [ 3.63958290e-01, -1.38688893e+00, -1.12575060e+00,\n",
              "         3.92401673e-04, -9.03545224e-01, -1.13094639e+00,\n",
              "         1.09073363e-02,  7.34168378e-01,  5.61328631e-01,\n",
              "         2.28823098e-01,  2.52408203e+00, -5.07336709e-02,\n",
              "        -5.87592258e-01, -1.62650023e+00,  7.67424763e-01,\n",
              "        -2.40566627e-01, -1.00142717e+00, -8.36649260e-01,\n",
              "        -1.81525154e+00,  1.82698619e+00, -6.77003200e-01]])"
            ]
          },
          "metadata": {},
          "execution_count": 49
        }
      ]
    },
    {
      "cell_type": "code",
      "source": [
        "test_y = test_df1['POSTSEASON'].values\n",
        "test_y[0:5]"
      ],
      "metadata": {
        "trusted": true,
        "colab": {
          "base_uri": "https://localhost:8080/"
        },
        "id": "6wEpe60ZHACA",
        "outputId": "4ff2f954-d2fc-4dff-99b3-e07a114ab3a4"
      },
      "execution_count": null,
      "outputs": [
        {
          "output_type": "execute_result",
          "data": {
            "text/plain": [
              "array(['E8', 'E8', 'E8', 'E8', 'F4'], dtype=object)"
            ]
          },
          "metadata": {},
          "execution_count": 50
        }
      ]
    },
    {
      "cell_type": "markdown",
      "source": [
        "KNN\n"
      ],
      "metadata": {
        "id": "zW31soJAHACA"
      }
    },
    {
      "cell_type": "code",
      "source": [
        "yhat = neigh.predict(test_X)\n",
        "yhat[0:5]"
      ],
      "metadata": {
        "trusted": true,
        "colab": {
          "base_uri": "https://localhost:8080/"
        },
        "id": "cMjNQSu7HACB",
        "outputId": "2400543f-97af-42a5-d3fb-e52baad77f1c"
      },
      "execution_count": null,
      "outputs": [
        {
          "output_type": "execute_result",
          "data": {
            "text/plain": [
              "array(['S16', 'S16', 'E8', 'E8', 'E8'], dtype=object)"
            ]
          },
          "metadata": {},
          "execution_count": 51
        }
      ]
    },
    {
      "cell_type": "code",
      "source": [
        "from sklearn import metrics\n",
        "print(\"Train set Accuracy: \", metrics.accuracy_score(y_train, neigh.predict(X_train)))\n",
        "print(\"Test set Accuracy: \", metrics.accuracy_score(test_y, yhat))\n",
        "print('Jaccard index: ', jaccard_index(yhat,test_y))"
      ],
      "metadata": {
        "trusted": true,
        "colab": {
          "base_uri": "https://localhost:8080/"
        },
        "id": "SR1VAiKYHACB",
        "outputId": "32aa5d4f-e15d-4284-af8e-bdc22e58d866"
      },
      "execution_count": null,
      "outputs": [
        {
          "output_type": "stream",
          "name": "stdout",
          "text": [
            "Train set Accuracy:  0.6363636363636364\n",
            "Test set Accuracy:  0.6285714285714286\n",
            "Jaccard index:  0.4583333333333333\n"
          ]
        }
      ]
    },
    {
      "cell_type": "code",
      "source": [
        "# Get the classification report for the KNN model\n",
        "report = classification_report(test_y, yhat)\n",
        "print(report)"
      ],
      "metadata": {
        "trusted": true,
        "colab": {
          "base_uri": "https://localhost:8080/"
        },
        "id": "EILit1F7HACB",
        "outputId": "30faad7a-7b1b-4331-d9a6-4703687e5c25"
      },
      "execution_count": null,
      "outputs": [
        {
          "output_type": "stream",
          "name": "stdout",
          "text": [
            "              precision    recall  f1-score   support\n",
            "\n",
            "          E8       0.48      0.75      0.59        20\n",
            "          F4       0.50      0.20      0.29        10\n",
            "         S16       0.77      0.68      0.72        40\n",
            "\n",
            "    accuracy                           0.63        70\n",
            "   macro avg       0.59      0.54      0.53        70\n",
            "weighted avg       0.65      0.63      0.62        70\n",
            "\n"
          ]
        }
      ]
    },
    {
      "cell_type": "markdown",
      "source": [
        "Decision Tree\n"
      ],
      "metadata": {
        "id": "BlocYjzSHACB"
      }
    },
    {
      "cell_type": "code",
      "source": [
        "# predict\n",
        "predTree = drugTree.predict(test_X)\n",
        "predTree[0:5]"
      ],
      "metadata": {
        "trusted": true,
        "colab": {
          "base_uri": "https://localhost:8080/"
        },
        "id": "4XXDK480HACB",
        "outputId": "50515c28-c27d-416f-b6ad-6653c5c7934d"
      },
      "execution_count": null,
      "outputs": [
        {
          "output_type": "execute_result",
          "data": {
            "text/plain": [
              "array(['S16', 'E8', 'E8', 'E8', 'S16'], dtype=object)"
            ]
          },
          "metadata": {},
          "execution_count": 54
        }
      ]
    },
    {
      "cell_type": "code",
      "source": [
        "print(\"Test set Accuracy: \", metrics.accuracy_score(test_y, predTree))\n",
        "print('Jaccard index: ', jaccard_index(yhat,predTree))"
      ],
      "metadata": {
        "trusted": true,
        "colab": {
          "base_uri": "https://localhost:8080/"
        },
        "id": "REUrV1khHACB",
        "outputId": "36b5d28c-9e73-4a89-d7be-e887ceeb9f3a"
      },
      "execution_count": null,
      "outputs": [
        {
          "output_type": "stream",
          "name": "stdout",
          "text": [
            "Test set Accuracy:  0.6428571428571429\n",
            "Jaccard index:  0.38613861386138615\n"
          ]
        }
      ]
    },
    {
      "cell_type": "code",
      "source": [
        "# Get the classification report for the KNN model\n",
        "report = classification_report(test_y, predTree)\n",
        "print(report)"
      ],
      "metadata": {
        "colab": {
          "base_uri": "https://localhost:8080/"
        },
        "id": "y139hlxsJ3sk",
        "outputId": "c6013a39-bba7-4ac2-b186-3d486d42fe4a"
      },
      "execution_count": null,
      "outputs": [
        {
          "output_type": "stream",
          "name": "stdout",
          "text": [
            "              precision    recall  f1-score   support\n",
            "\n",
            "          E8       0.67      0.30      0.41        20\n",
            "          F4       0.00      0.00      0.00        10\n",
            "         S16       0.64      0.97      0.77        40\n",
            "\n",
            "    accuracy                           0.64        70\n",
            "   macro avg       0.44      0.42      0.40        70\n",
            "weighted avg       0.56      0.64      0.56        70\n",
            "\n"
          ]
        }
      ]
    },
    {
      "cell_type": "markdown",
      "source": [
        "SVM\n"
      ],
      "metadata": {
        "id": "0pJ5HiPwHACB"
      }
    },
    {
      "cell_type": "code",
      "source": [
        "# Let's make a predict\n",
        "SVM_yhat = clf.predict(test_X)\n",
        "SVM_yhat"
      ],
      "metadata": {
        "trusted": true,
        "id": "emUBPoVCHACB",
        "outputId": "34246ce9-d4c3-4574-fbde-ae40d164a0da"
      },
      "execution_count": null,
      "outputs": [
        {
          "execution_count": 72,
          "output_type": "execute_result",
          "data": {
            "text/plain": "array(['S16', 'S16', 'E8', 'E8', 'S16', 'S16', 'S16', 'S16', 'S16', 'S16',\n       'S16', 'S16', 'E8', 'S16', 'S16', 'E8', 'E8', 'E8', 'S16', 'S16',\n       'S16', 'S16', 'S16', 'S16', 'S16', 'S16', 'S16', 'S16', 'S16',\n       'S16', 'E8', 'E8', 'S16', 'F4', 'S16', 'S16', 'S16', 'S16', 'S16',\n       'S16', 'S16', 'S16', 'E8', 'S16', 'E8', 'E8', 'S16', 'F4', 'S16',\n       'S16', 'S16', 'S16', 'S16', 'S16', 'S16', 'S16', 'E8', 'S16',\n       'S16', 'S16', 'S16', 'S16', 'S16', 'S16', 'S16', 'S16', 'S16',\n       'S16', 'S16', 'S16'], dtype=object)"
          },
          "metadata": {}
        }
      ]
    },
    {
      "cell_type": "code",
      "source": [
        "print(\"Test set Accuracy: \", metrics.accuracy_score(test_y, SVM_yhat))\n",
        "print('Jaccard index: ', jaccard_index(yhat,SVM_yhat))"
      ],
      "metadata": {
        "trusted": true,
        "id": "guQoZxkpHACB",
        "outputId": "e60b530a-791f-4778-c012-f962f70cf8a2"
      },
      "execution_count": null,
      "outputs": [
        {
          "name": "stdout",
          "text": "Test set Accuracy:  0.7428571428571429\nJaccard index:  0.5053763440860215\n",
          "output_type": "stream"
        }
      ]
    },
    {
      "cell_type": "code",
      "source": [
        "# Get the classification report for the KNN model\n",
        "report = classification_report(test_y, SVM_yhat)\n",
        "print(report)"
      ],
      "metadata": {
        "trusted": true,
        "id": "VecoiuDfHACB",
        "outputId": "e67128a2-a789-4e00-f700-9541e93af4bf"
      },
      "execution_count": null,
      "outputs": [
        {
          "name": "stdout",
          "text": "              precision    recall  f1-score   support\n\n          E8       0.92      0.55      0.69        20\n          F4       1.00      0.20      0.33        10\n         S16       0.70      0.97      0.81        40\n\n    accuracy                           0.74        70\n   macro avg       0.87      0.58      0.61        70\nweighted avg       0.80      0.74      0.71        70\n\n",
          "output_type": "stream"
        }
      ]
    },
    {
      "cell_type": "markdown",
      "source": [
        "Logistic Regression\n"
      ],
      "metadata": {
        "id": "qFqMHdKPHACB"
      }
    },
    {
      "cell_type": "code",
      "source": [
        "LR_yhat = LR.predict(test_X)\n",
        "yhat_prob = LR.predict_proba(test_X)\n",
        "\n",
        "print('yhat: ',LR_yhat[0:5])\n",
        "print('yhat_prob: ',yhat_prob[0:5])"
      ],
      "metadata": {
        "trusted": true,
        "id": "MEb8IwgAHACB",
        "outputId": "fa414e54-c7e8-45ee-ff13-78e88a30bd36"
      },
      "execution_count": null,
      "outputs": [
        {
          "name": "stdout",
          "text": "yhat:  ['S16' 'S16' 'E8' 'E8' 'F4']\nyhat_prob:  [[0.30393062 0.30257571 0.39349367]\n [0.33247931 0.31284143 0.35467926]\n [0.35814639 0.32829211 0.3135615 ]\n [0.37117283 0.32002519 0.30880198]\n [0.31019343 0.35558511 0.33422146]]\n",
          "output_type": "stream"
        }
      ]
    },
    {
      "cell_type": "code",
      "source": [
        "# Get the classification report for the KNN model\n",
        "report = classification_report(test_y, LR_yhat)\n",
        "print(report)"
      ],
      "metadata": {
        "trusted": true,
        "id": "rR38cBUSHACB",
        "outputId": "e19d1bb4-2467-4aea-8397-ff88cfe3675d"
      },
      "execution_count": null,
      "outputs": [
        {
          "name": "stdout",
          "text": "              precision    recall  f1-score   support\n\n          E8       0.52      0.70      0.60        20\n          F4       0.83      0.50      0.62        10\n         S16       0.78      0.72      0.75        40\n\n    accuracy                           0.69        70\n   macro avg       0.71      0.64      0.66        70\nweighted avg       0.72      0.69      0.69        70\n\n",
          "output_type": "stream"
        }
      ]
    },
    {
      "cell_type": "code",
      "source": [
        "# jaccard index\n",
        "print('jaccard_index: ', jaccard_index(LR_yhat, test_y))\n",
        "print('log loss: ', log_loss(test_y, yhat_prob))"
      ],
      "metadata": {
        "trusted": true,
        "id": "RVkTAQLGHACB",
        "outputId": "528a692c-0aab-48f8-b442-4082eb1889f9"
      },
      "execution_count": null,
      "outputs": [
        {
          "name": "stdout",
          "text": "jaccard_index:  0.5217391304347826\nlog loss:  1.03718699059278\n",
          "output_type": "stream"
        }
      ]
    },
    {
      "cell_type": "markdown",
      "source": [
        "# Report\n",
        "\n",
        "You should be able to report the accuracy of the built model using different evaluation metrics:\n"
      ],
      "metadata": {
        "id": "jijsyIy5HACB"
      }
    },
    {
      "cell_type": "markdown",
      "source": [
        "| Algorithm          | Accuracy | Jaccard | F1-score | LogLoss |\n",
        "| ------------------ | -------- | ------- | -------- | ------- |\n",
        "| KNN                | 0.628    | 0.458   | 0.62     | NA      |\n",
        "| Decision Tree      | 0.642    | 0.386   | 0.56     | NA      |\n",
        "| SVM                | 0.742    | 0.505   | 0.71     | NA      |\n",
        "| LogisticRegression | 0.69     | 0.521   | 0.69     | 1.037   |\n"
      ],
      "metadata": {
        "id": "cEgyP4YYHACC"
      }
    },
    {
      "cell_type": "markdown",
      "source": [
        "Something to keep in mind when creating models to predict the results of basketball tournaments or sports in general is that is quite hard due to so many factors influencing the game. Even in sports betting an accuracy of 55% and over is considered good as it indicates profits.\n"
      ],
      "metadata": {
        "id": "770xcOmHHACC"
      }
    },
    {
      "cell_type": "markdown",
      "source": [
        "<h2>Want to learn more?</h2>\n",
        "\n",
        "IBM SPSS Modeler is a comprehensive analytics platform that has many machine learning algorithms. It has been designed to bring predictive intelligence to decisions made by individuals, by groups, by systems – by your enterprise as a whole. A free trial is available through this course, available here: <a href=\"https://www.ibm.com/analytics/spss-statistics-software?utm_medium=Exinfluencer&utm_source=Exinfluencer&utm_content=000026UJ&utm_term=10006555&utm_id=NA-SkillsNetwork-Channel-SkillsNetworkCoursesIBMDeveloperSkillsNetworkML0101ENSkillsNetwork20718538-2022-01-01\">SPSS Modeler</a>\n",
        "\n",
        "Also, you can use Watson Studio to run these notebooks faster with bigger datasets. Watson Studio is IBM's leading cloud solution for data scientists, built by data scientists. With Jupyter notebooks, RStudio, Apache Spark and popular libraries pre-packaged in the cloud, Watson Studio enables data scientists to collaborate on their projects without having to install anything. Join the fast-growing community of Watson Studio users today with a free account at <a href=\"https://www.ibm.com/cloud/watson-studio?utm_medium=Exinfluencer&utm_source=Exinfluencer&utm_content=000026UJ&utm_term=10006555&utm_id=NA-SkillsNetwork-Channel-SkillsNetworkCoursesIBMDeveloperSkillsNetworkML0101ENSkillsNetwork20718538-2022-01-01\">Watson Studio</a>\n"
      ],
      "metadata": {
        "id": "0qrt118pHACC"
      }
    },
    {
      "cell_type": "markdown",
      "source": [
        "### Thank you for completing this lab!\n",
        "\n",
        "## Author\n",
        "\n",
        "Saeed Aghabozorgi\n",
        "\n",
        "### Other Contributors\n",
        "\n",
        "<a href=\"https://www.linkedin.com/in/joseph-s-50398b136/?utm_medium=Exinfluencer&utm_source=Exinfluencer&utm_content=000026UJ&utm_term=10006555&utm_id=NA-SkillsNetwork-Channel-SkillsNetworkCoursesIBMDeveloperSkillsNetworkML0101ENSkillsNetwork20718538-2022-01-01\" target=\"_blank\">Joseph Santarcangelo</a>\n",
        "\n",
        "## Change Log\n",
        "\n",
        "| Date (YYYY-MM-DD) | Version | Changed By    | Change Description                       |\n",
        "| ----------------- | ------- | ------------- | ---------------------------------------- |\n",
        "| 2022-11-29        | 2.2     | Anita Verma   | Converted initial version to Jupyterlite |\n",
        "| 2021-04-03        | 2.1     | Malika Singla | Updated the Report accuracy              |\n",
        "| 2020-08-27        | 2.0     | Lavanya       | Moved lab to course repo in GitLab       |\n",
        "|                   |         |               |                                          |\n",
        "|                   |         |               |                                          |\n",
        "\n",
        "## <h3 align=\"center\"> © IBM Corporation 2020. All rights reserved. <h3/>\n"
      ],
      "metadata": {
        "id": "t-Sg_QNpHACF"
      }
    }
  ]
}