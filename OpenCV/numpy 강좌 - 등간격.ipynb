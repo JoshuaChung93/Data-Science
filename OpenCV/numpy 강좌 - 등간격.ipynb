{
 "cells": [
  {
   "cell_type": "code",
   "execution_count": 5,
   "id": "aa29b48b",
   "metadata": {},
   "outputs": [
    {
     "name": "stdout",
     "output_type": "stream",
     "text": [
      "[0 5]\n",
      "[1 6]\n",
      "[0 1 2 3 4 5 6 7 8 9]\n"
     ]
    }
   ],
   "source": [
    "import numpy as np\n",
    "\n",
    "a = np.arange(0, 10, step=5) # step=간격. 0~9사이의 값을 간격만큼 띄워 배열로 전환. end값은 포함되지 않을 수 있음\n",
    "b = np.arange(1, 10, step=5)\n",
    "c = np.arange(0, 10, step=1)\n",
    "\n",
    "print(a, b, c, sep='\\n')"
   ]
  },
  {
   "cell_type": "code",
   "execution_count": 7,
   "id": "79e07155",
   "metadata": {},
   "outputs": [
    {
     "name": "stdout",
     "output_type": "stream",
     "text": [
      "(array([ 0. ,  2.5,  5. ,  7.5, 10. ]), 2.5)\n",
      "[ 1.    3.25  5.5   7.75 10.  ]\n",
      "[0. 2. 4. 6. 8.]\n"
     ]
    }
   ],
   "source": [
    "# num=개수, endpoit가 True일 경우 end의 값이 마지막 값. False일 경우 end의 값을 end의 값을 마지막 값으로 사용하지 않음\n",
    "# retstep이 True일 경우 값들의 간격을 배열에 포함함\n",
    "a = np.linspace(0, 10, num=5, endpoint=True, retstep=True)\n",
    "b = np.linspace(1, 10, num=5, endpoint=True, retstep=False)\n",
    "c = np.linspace(0, 10, num=5, endpoint=False, retstep=False)\n",
    "\n",
    "print(a, b, c, sep='\\n')"
   ]
  },
  {
   "cell_type": "code",
   "execution_count": null,
   "id": "250f7295",
   "metadata": {},
   "outputs": [],
   "source": []
  }
 ],
 "metadata": {
  "kernelspec": {
   "display_name": "Python 3 (ipykernel)",
   "language": "python",
   "name": "python3"
  },
  "language_info": {
   "codemirror_mode": {
    "name": "ipython",
    "version": 3
   },
   "file_extension": ".py",
   "mimetype": "text/x-python",
   "name": "python",
   "nbconvert_exporter": "python",
   "pygments_lexer": "ipython3",
   "version": "3.8.13"
  }
 },
 "nbformat": 4,
 "nbformat_minor": 5
}
