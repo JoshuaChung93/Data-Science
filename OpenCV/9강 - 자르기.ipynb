{
 "cells": [
  {
   "cell_type": "code",
   "execution_count": 8,
   "id": "ccca9694",
   "metadata": {},
   "outputs": [],
   "source": [
    "import cv2\n",
    "\n",
    "src = cv2.imread(\"CHESS.webp\", cv2.IMREAD_COLOR)\n",
    "dst = src[100:600, 200:700].copy() # src[높이, 너비]로 관심 영역 설정. copy()를 이용해 깊은 복사를 진행. Otherwise original immage would be affected\n",
    "\n",
    "cv2.imshow(\"src\", src)\n",
    "cv2.imshow(\"dst\", dst)\n",
    "cv2.waitKey()\n",
    "cv2.destroyAllWindows()"
   ]
  },
  {
   "cell_type": "code",
   "execution_count": 10,
   "id": "d29fe474",
   "metadata": {},
   "outputs": [
    {
     "name": "stdout",
     "output_type": "stream",
     "text": [
      "1368 1920 3\n"
     ]
    }
   ],
   "source": [
    "import cv2\n",
    "\n",
    "src = cv2.imread(\"CHESS.webp\", cv2.IMREAD_COLOR)\n",
    "\n",
    "dst = src.copy() # 깊은 복사 진행\n",
    "roi = src[100:600, 200:700] # roi이미지를 생성하여 src[높이, 너비]로 관심 영역을 설정\n",
    "dst[700:1200, 700:1200] = roi # dst이미지에 해당 영역을 붙여넣기\n",
    "\n",
    "cv2.imshow(\"src\", src)\n",
    "cv2.imshow(\"dst\", dst)\n",
    "cv2.waitKey()\n",
    "cv2.destroyAllWindows()\n",
    "height, width, channel = src.shape\n",
    "print(height, width, channel)"
   ]
  },
  {
   "cell_type": "code",
   "execution_count": null,
   "id": "8a852768",
   "metadata": {},
   "outputs": [],
   "source": []
  }
 ],
 "metadata": {
  "kernelspec": {
   "display_name": "Python 3 (ipykernel)",
   "language": "python",
   "name": "python3"
  },
  "language_info": {
   "codemirror_mode": {
    "name": "ipython",
    "version": 3
   },
   "file_extension": ".py",
   "mimetype": "text/x-python",
   "name": "python",
   "nbconvert_exporter": "python",
   "pygments_lexer": "ipython3",
   "version": "3.8.13"
  }
 },
 "nbformat": 4,
 "nbformat_minor": 5
}
