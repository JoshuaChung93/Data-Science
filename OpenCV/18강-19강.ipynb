{
 "cells": [
  {
   "cell_type": "code",
   "execution_count": 35,
   "id": "a40a7b8f",
   "metadata": {},
   "outputs": [],
   "source": [
    "import cv2\n",
    "import numpy as np\n",
    "\n",
    "src = np.zeros((768, 1366, 3), dtype=np.uint8) # 검은색 빈 공간 이미지 생성\n",
    "\n",
    "src = cv2.line(src, (100, 100), (1200, 100), (0, 0, 255), 3, cv2.LINE_AA) # 직선 그리기 함수로 입력 이미지에 직선 그리기\n",
    "src = cv2.circle(src, (300, 300), 50, (0, 255, 0), cv2.FILLED, cv2.LINE_4) # 원 그리기 함수로 입력 이미지에 원 그리기\n",
    "src = cv2.rectangle(src, (500, 200), (1000, 400), (255, 0, 0), 5, cv2.LINE_8) # 사각형 그리기 함수로 입력 이미지에 사각형 그리기\n",
    "src = cv2.ellipse(src, (1200, 300), (100, 50), 0, 90, 180, (255, 255, 0), 2) # 호 그리기 함수로 입력 이미지에 호 그리기\n",
    "\n",
    "pts1 = np.array([[100, 500], [300, 500], [200, 600]]) # numpy 를 이용해 위치 좌표 생성, 좌표가 3개이므로 삼각형\n",
    "pts2 = np.array([[600, 500], [800, 500], [700, 600]])\n",
    "src = cv2.polylines(src, [pts1], True, (0, 255, 255), 2) # 다각형 그리기 함수로 입력 이미지에 다각형 그리기. 닫힘 여부 True\n",
    "src = cv2.fillPoly(src, [pts2], (255, 0, 255), cv2.LINE_AA) # 내부가 채워진 다각형 그리기 함수로 입력 이미지에 다각형 그리기\n",
    "\n",
    "src = cv2.putText(src, \"JAEUKCHUNG\", (900, 600), cv2.FONT_HERSHEY_COMPLEX, 2, (255, 255, 255), 3, cv2.FILLED, False) # 문자 그리기 함수로 문자 그리기\n",
    "\n",
    "cv2.imshow(\"src\", src)\n",
    "cv2.waitKey()\n",
    "cv2.destroyAllWindows()"
   ]
  },
  {
   "cell_type": "code",
   "execution_count": 38,
   "id": "7dabfd36",
   "metadata": {},
   "outputs": [
    {
     "name": "stdout",
     "output_type": "stream",
     "text": [
      "[[-5.760e+01 -1.920e+01  2.112e+04]\n",
      " [ 0.000e+00 -4.305e+01  8.610e+03]\n",
      " [-0.000e+00 -2.000e-02  1.000e+00]]\n"
     ]
    }
   ],
   "source": [
    "# 19강 - 기하학적 변환\n",
    "src = cv2.imread(\"harvest.webp\", cv2.IMREAD_COLOR)\n",
    "height, width, channel = src.shape\n",
    "\n",
    "srcPoint = np.array([[300,200], [400,200], [500,500], [200,500]], dtype=np.float32) # 매핑에 사용할 변환 전 원본 이미지의 srcPoint와 결과 이미지의 dstPoint를 선언\n",
    "dstPoint = np.array([[0,0], [width, 0], [width,height], [0, height]], dtype=np.float32)\n",
    "\n",
    "matrix = cv2.getPerspectiveTransform(srcPoint, dstPoint) # 원근 맵 행렬 생성 함수로 매핑 좌표에 대한 원근 맵 행렬 생성\n",
    "dst = cv2.warpPerspective(src, matrix, (width, height), dst) # 원근 맵 행렬에 대한 기하학적 변환 수행\n",
    "\n",
    "cv2.imshow(\"dst\", dst)\n",
    "cv2.waitKey()\n",
    "cv2.destroyAllWindows()\n",
    "print(matrix)"
   ]
  },
  {
   "cell_type": "code",
   "execution_count": null,
   "id": "1048807e",
   "metadata": {},
   "outputs": [],
   "source": []
  }
 ],
 "metadata": {
  "kernelspec": {
   "display_name": "Python 3 (ipykernel)",
   "language": "python",
   "name": "python3"
  },
  "language_info": {
   "codemirror_mode": {
    "name": "ipython",
    "version": 3
   },
   "file_extension": ".py",
   "mimetype": "text/x-python",
   "name": "python",
   "nbconvert_exporter": "python",
   "pygments_lexer": "ipython3",
   "version": "3.8.13"
  }
 },
 "nbformat": 4,
 "nbformat_minor": 5
}
