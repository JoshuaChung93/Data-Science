{
 "cells": [
  {
   "cell_type": "code",
   "execution_count": 1,
   "id": "58e6817d",
   "metadata": {},
   "outputs": [
    {
     "name": "stdout",
     "output_type": "stream",
     "text": [
      "Collecting opencv-python\n",
      "  Downloading opencv_python-4.6.0.66-cp36-abi3-win_amd64.whl (35.6 MB)\n",
      "     --------------------------------------- 35.6/35.6 MB 28.4 MB/s eta 0:00:00\n",
      "Requirement already satisfied: numpy>=1.17.3 in c:\\users\\jaeuk chung\\miniconda3\\envs\\py38\\lib\\site-packages (from opencv-python) (1.23.1)\n",
      "Installing collected packages: opencv-python\n",
      "Successfully installed opencv-python-4.6.0.66\n",
      "\n",
      "[notice] A new release of pip available: 22.1.2 -> 22.2.2\n",
      "[notice] To update, run: python.exe -m pip install --upgrade pip\n"
     ]
    }
   ],
   "source": [
    "!pip install opencv-python"
   ]
  },
  {
   "cell_type": "code",
   "execution_count": null,
   "id": "403a36ff",
   "metadata": {},
   "outputs": [],
   "source": [
    "import cv2\n",
    "\n",
    "capture = cv2.VideoCapture(0) # 비디오 출력 클래스, 카메라 장치 번호\n",
    "capture.set(cv2.CAP_PROP_FRAME_WIDTH, 640) # Camera propid, value setting\n",
    "capture.set(cv2.CAP_PROP_FRAME_HEIGHT, 480)\n",
    "\n",
    "while cv2.waitKey(33) < 0: # delpay for 33 ms, then execute the next progress. Delay should be applied because it continuesly checks key input so the frame doesn't go over\n",
    "    ret, frame = capture.read() # imoprt camera, frame\n",
    "    cv2.imshow(\"VideoFrame\", frame) # open image in window screen\n",
    "    \n",
    "capture.release() # disable memory from camera device\n",
    "cv2.destroyAllwindows() # close all window screen, if you want to close specific window screen, use cv2.destoryWindow(winname)\n"
   ]
  },
  {
   "cell_type": "code",
   "execution_count": null,
   "id": "7c8b154a",
   "metadata": {},
   "outputs": [],
   "source": []
  }
 ],
 "metadata": {
  "kernelspec": {
   "display_name": "Python 3 (ipykernel)",
   "language": "python",
   "name": "python3"
  },
  "language_info": {
   "codemirror_mode": {
    "name": "ipython",
    "version": 3
   },
   "file_extension": ".py",
   "mimetype": "text/x-python",
   "name": "python",
   "nbconvert_exporter": "python",
   "pygments_lexer": "ipython3",
   "version": "3.8.13"
  }
 },
 "nbformat": 4,
 "nbformat_minor": 5
}
