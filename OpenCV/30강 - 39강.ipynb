{
 "cells": [
  {
   "cell_type": "code",
   "execution_count": 1,
   "id": "86d588fc",
   "metadata": {},
   "outputs": [],
   "source": [
    "# 30강 - 이미지 연산\n",
    "\n",
    "import numpy as np\n",
    "import cv2\n",
    "\n",
    "src = cv2.imread(\"pencils.webp\")\n",
    "number1 = np.ones_like(src) * 127\n",
    "number2 = np.ones_like(src) * 2\n",
    "\n",
    "add = cv2.add(src, number1)\n",
    "sub = cv2.subtract(src, number1)\n",
    "mul = cv2.multiply(src, number2)\n",
    "div = cv2.divide(src, number2)\n",
    "\n",
    "src = np.concatenate((src, src, src, src), axis = 1)\n",
    "number = np.concatenate((number1, number1, number2, number2), axis = 1)\n",
    "dst = np.concatenate((add, sub, mul, div), axis = 1)\n",
    "\n",
    "dst = np.concatenate((src, number, dst), axis = 0)\n",
    "\n",
    "cv2.imshow(\"dst\", dst)\n",
    "cv2.waitKey(0)\n",
    "cv2.destroyAllWindows()"
   ]
  },
  {
   "cell_type": "code",
   "execution_count": 3,
   "id": "0b8b1d38",
   "metadata": {},
   "outputs": [
    {
     "ename": "ValueError",
     "evalue": "zero-dimensional arrays cannot be concatenated",
     "output_type": "error",
     "traceback": [
      "\u001b[1;31m---------------------------------------------------------------------------\u001b[0m",
      "\u001b[1;31mValueError\u001b[0m                                Traceback (most recent call last)",
      "Input \u001b[1;32mIn [3]\u001b[0m, in \u001b[0;36m<cell line: 14>\u001b[1;34m()\u001b[0m\n\u001b[0;32m     11\u001b[0m div \u001b[38;5;241m=\u001b[39m cv2\u001b[38;5;241m.\u001b[39mdivide(src, number2)\n\u001b[0;32m     13\u001b[0m src \u001b[38;5;241m=\u001b[39m np\u001b[38;5;241m.\u001b[39mconcatenate([src, src, src, src], axis \u001b[38;5;241m=\u001b[39m \u001b[38;5;241m1\u001b[39m)\n\u001b[1;32m---> 14\u001b[0m number \u001b[38;5;241m=\u001b[39m \u001b[43mnp\u001b[49m\u001b[38;5;241;43m.\u001b[39;49m\u001b[43mconcatenate\u001b[49m\u001b[43m(\u001b[49m\u001b[43m[\u001b[49m\u001b[43mnumber1\u001b[49m\u001b[43m,\u001b[49m\u001b[43m \u001b[49m\u001b[43mnumber1\u001b[49m\u001b[43m,\u001b[49m\u001b[43m \u001b[49m\u001b[43mnumber2\u001b[49m\u001b[43m,\u001b[49m\u001b[43m \u001b[49m\u001b[43mnumber2\u001b[49m\u001b[43m]\u001b[49m\u001b[43m,\u001b[49m\u001b[43m \u001b[49m\u001b[43maxis\u001b[49m\u001b[43m \u001b[49m\u001b[38;5;241;43m=\u001b[39;49m\u001b[43m \u001b[49m\u001b[38;5;241;43m1\u001b[39;49m\u001b[43m)\u001b[49m\n\u001b[0;32m     15\u001b[0m dst \u001b[38;5;241m=\u001b[39m np\u001b[38;5;241m.\u001b[39mconcatenate([add, sub, mul, div], axis \u001b[38;5;241m=\u001b[39m \u001b[38;5;241m1\u001b[39m)\n\u001b[0;32m     17\u001b[0m dst \u001b[38;5;241m=\u001b[39m np\u001b[38;5;241m.\u001b[39mconcatenate([src, number, dst], axis \u001b[38;5;241m=\u001b[39m \u001b[38;5;241m0\u001b[39m)\n",
      "File \u001b[1;32m<__array_function__ internals>:180\u001b[0m, in \u001b[0;36mconcatenate\u001b[1;34m(*args, **kwargs)\u001b[0m\n",
      "\u001b[1;31mValueError\u001b[0m: zero-dimensional arrays cannot be concatenated"
     ]
    }
   ],
   "source": [
    "# 30강 - 이미지 연산... 다른 방법\n",
    "\n",
    "import numpy as np\n",
    "import cv2\n",
    "\n",
    "src = cv2.imread(\"pencils.webp\")\n",
    "number1 = 127 ## np.ones_like(src) * 127\n",
    "number2 = 2   ## np.ones_like(src) * 2\n",
    "\n",
    "add = cv2.add(src, number1)\n",
    "sub = cv2.subtract(src, number1)\n",
    "mul = cv2.multiply(src, number2)\n",
    "div = cv2.divide(src, number2)\n",
    "\n",
    "src = np.concatenate([src, src, src, src], axis = 1)\n",
    "number = np.concatenate([number1, number1, number2, number2], axis = 1)\n",
    "dst = np.concatenate([add, sub, mul, div], axis = 1)\n",
    "\n",
    "dst = np.concatenate([src, number, dst], axis = 0)\n",
    "\n",
    "cv2.imshow(\"dst\", dst)\n",
    "cv2.waitKey(0)\n",
    "cv2.destroyAllWindows()"
   ]
  },
  {
   "cell_type": "code",
   "execution_count": 21,
   "id": "7412bc96",
   "metadata": {},
   "outputs": [],
   "source": [
    "# 31강 - 이미지 연산(2)\n",
    "\n",
    "import numpy as np\n",
    "import cv2\n",
    "\n",
    "src = cv2.imread('pencils.webp')\n",
    "src = cv2.resize(src, dsize=(320, 240), interpolation=cv2.INTER_AREA) # 원본 이미지 크기 축소\n",
    "number = np.ones_like(src) * 127 # 연산 이미지로 회색 이미지 (127,127,127)을 사용\n",
    "\n",
    "_max = cv2.max(src, number) # 이미지 연산 진행. 최댓값\n",
    "_min = cv2.min(src, number) # 최솟값\n",
    "_abs = cv2.absdiff(src, number) # 절댓값 차이. 연산 진행후 값이 마이너스여도 양수 형태로 반환함\n",
    "compare = cv2.compare(src, number, cv2.CMP_GT) # 비교. True 일 경우 255, False일 경우 0으로 변경\n",
    "\n",
    "src = np.concatenate((src,src,src,src), axis = 1) # 연결 함수로 이미지 연결\n",
    "number = np.concatenate((number,number,number,number), axis =1)\n",
    "dst = np.concatenate((_max,_min,_abs,compare), axis = 1)\n",
    "\n",
    "dst = np.concatenate((src,number,dst), axis =0)\n",
    "\n",
    "cv2.imshow(\"dst\", dst)\n",
    "cv2.waitKey(0)\n",
    "cv2.destroyAllWindows()"
   ]
  },
  {
   "cell_type": "code",
   "execution_count": 30,
   "id": "35c6bbc0",
   "metadata": {},
   "outputs": [],
   "source": [
    "# 32강 - 비트 연산\n",
    "\n",
    "import numpy as np\n",
    "import cv2\n",
    "\n",
    "src = cv2.imread('analysis.webp')\n",
    "src = cv2.resize(src, dsize=(320, 240), interpolation=cv2.INTER_AREA)\n",
    "gray = cv2.cvtColor(src, cv2.COLOR_BGR2GRAY)\n",
    "_, binary = cv2.threshold(gray, 127, 255, cv2.THRESH_BINARY) # 이진화 선언, 임계값 127\n",
    "\n",
    "_and = cv2.bitwise_and(gray, binary) # 논리곱\n",
    "_or = cv2.bitwise_or(gray, binary) # 논리합\n",
    "_xor = cv2.bitwise_xor(gray, binary) # 배타적 논리합\n",
    "_not = cv2.bitwise_not(gray) # 부정\n",
    "\n",
    "src = np.concatenate((np.zeros_like(gray), gray, binary, np.zeros_like(gray)), axis=1)\n",
    "dst = np.concatenate((_and, _or, _xor, _not), axis=1)\n",
    "dst = np.concatenate((src,dst), axis=0)\n",
    "\n",
    "cv2.imshow('dst',dst)\n",
    "cv2.waitKey(0)\n",
    "cv2.destroyAllWindows()"
   ]
  },
  {
   "cell_type": "code",
   "execution_count": 32,
   "id": "8d9762f3",
   "metadata": {},
   "outputs": [],
   "source": [
    "# 33강 - 히스토그램\n",
    "\n",
    "import cv2\n",
    "import numpy as np\n",
    "\n",
    "src = cv2.imread('road.webp')\n",
    "src = cv2.resize(src, dsize=(720, 480), interpolation=cv2.INTER_AREA) # 크기 축소\n",
    "gray = cv2.cvtColor(src, cv2.COLOR_BGR2GRAY)\n",
    "result = np.zeros((src.shape[0], 256), dtype=np.uint8) # 히스토그램 이미지 선언. n개의 개수를 갖는 256분포로 이미지 사용. 높이는 원본 이미지, 넓이는 256 사용\n",
    "\n",
    "# cv2.calcHist(연산 이미지, 특정 채널, 마스크, 히스토그램 크기, 히스토그램 범위)\n",
    "hist = cv2.calcHist([gray], [0], None, [256], [0,256]) # 히스토그램 계산 함수를 통해 분포 계산\n",
    "# cv2.normalize(입력 배열, 결과 배열, alpha, beta, 정규화 기준)\n",
    "cv2.normalize(hist, hist, 0, result.shape[0], cv2.NORM_MINMAX) # 정규화 함수를 통해 값을 변경\n",
    "\n",
    "# gray 와 result는 이미지 높이가 같으므로 병합 함수(np.hstack)로 이미지를 연결\n",
    "for x, y in enumerate(hist):\n",
    "    cv2.line(result, (int(x), result.shape[0]), (int(x), result.shape[0] - int(y)), 255)\n",
    "    \n",
    "dst = np.hstack([gray, result])\n",
    "\n",
    "cv2.imshow(\"dst\", dst)\n",
    "cv2.waitKey(0)\n",
    "cv2.destroyAllWindows()"
   ]
  },
  {
   "cell_type": "code",
   "execution_count": null,
   "id": "c1874cc6",
   "metadata": {},
   "outputs": [],
   "source": [
    "# 34강 - 픽셀 접근\n",
    "# 회색 그라데이션 이미지인 gray 선언. numpy.linspace를 활용해 구현. 이미지 배열이 아니므로 차원 변경 np.reshape 함수를 활용해 단일 채널 이미지로 변경\n",
    "gray = np.linspace(0, 255, num=90000, endpoint=True, retstep=False, dtype=np.uint8).reshape(300,300,1)\n",
    "# 색상 그라데이션 이미지인 color를 선언\n",
    "color = np.zeros((300,300,3), np.uint8)\n",
    "color[0:150, :, 0] = gray[0:150, :, 0]\n",
    "color[:, 150:300, 2] = gray[:, 150:300, 0]"
   ]
  }
 ],
 "metadata": {
  "kernelspec": {
   "display_name": "Python 3 (ipykernel)",
   "language": "python",
   "name": "python3"
  },
  "language_info": {
   "codemirror_mode": {
    "name": "ipython",
    "version": 3
   },
   "file_extension": ".py",
   "mimetype": "text/x-python",
   "name": "python",
   "nbconvert_exporter": "python",
   "pygments_lexer": "ipython3",
   "version": "3.8.13"
  }
 },
 "nbformat": 4,
 "nbformat_minor": 5
}
