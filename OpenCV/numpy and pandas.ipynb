{
 "cells": [
  {
   "cell_type": "code",
   "execution_count": 1,
   "id": "b629a356",
   "metadata": {},
   "outputs": [
    {
     "data": {
      "text/plain": [
       "array([1, 2, 3, 4])"
      ]
     },
     "execution_count": 1,
     "metadata": {},
     "output_type": "execute_result"
    }
   ],
   "source": [
    "# Numpy -> 배열을 다루는 도구\n",
    "# np.array(list) -> 리스트로 numpy 배열을 만드는 함수. 리스트가 중첩된 깊이가 곧 배열의 차원이 됨\n",
    "# 1차원 배열 생성하기\n",
    "import numpy as np\n",
    "\n",
    "numpy_array = np.array([1,2,3,4])\n",
    "numpy_array"
   ]
  },
  {
   "cell_type": "code",
   "execution_count": 2,
   "id": "a546da4f",
   "metadata": {},
   "outputs": [
    {
     "data": {
      "text/plain": [
       "array([[ 1,  2,  3,  4],\n",
       "       [11, 12, 13, 14]])"
      ]
     },
     "execution_count": 2,
     "metadata": {},
     "output_type": "execute_result"
    }
   ],
   "source": [
    "# 2차원 배열 생성\n",
    "numpy_array2 = np.array([[1,2,3,4,],[11,12,13,14]])\n",
    "numpy_array2"
   ]
  },
  {
   "cell_type": "code",
   "execution_count": 3,
   "id": "bbe44ee3",
   "metadata": {},
   "outputs": [
    {
     "data": {
      "text/plain": [
       "array([[[ 1,  2,  3,  4],\n",
       "        [11, 12, 13, 14]],\n",
       "\n",
       "       [[21, 22, 23, 24],\n",
       "        [31, 32, 33, 34]]])"
      ]
     },
     "execution_count": 3,
     "metadata": {},
     "output_type": "execute_result"
    }
   ],
   "source": [
    "# 3차원 배열 생성\n",
    "numpy_array3 = np.array([[[1,2,3,4],[11,12,13,14]], [[21,22,23,24],[31,32,33,34]]])\n",
    "numpy_array3"
   ]
  },
  {
   "cell_type": "code",
   "execution_count": 5,
   "id": "3f43d22f",
   "metadata": {},
   "outputs": [
    {
     "name": "stdout",
     "output_type": "stream",
     "text": [
      "[1 2 3 4]\n",
      "[[ 1  2  3  4]\n",
      " [11 12 13 14]]\n",
      "[[[ 1  2  3  4]\n",
      "  [11 12 13 14]]\n",
      "\n",
      " [[21 22 23 24]\n",
      "  [31 32 33 34]]]\n"
     ]
    }
   ],
   "source": [
    "# 배열의 모양보기\n",
    "print(numpy_array)\n",
    "print(numpy_array2)\n",
    "print(numpy_array3)"
   ]
  },
  {
   "cell_type": "code",
   "execution_count": 9,
   "id": "1957727e",
   "metadata": {},
   "outputs": [
    {
     "name": "stdout",
     "output_type": "stream",
     "text": [
      "[0. 0. 0. 0.]\n",
      "[[1. 1. 1. 1.]\n",
      " [1. 1. 1. 1.]\n",
      " [1. 1. 1. 1.]]\n",
      "[[-1.36581226 -1.74306828  1.01405703]\n",
      " [-0.57088546  0.57464178  0.1045684 ]]\n"
     ]
    }
   ],
   "source": [
    "# 다차원 배열 만들기\n",
    "z1 = np.zeros([4]) # 0으로 채운 배열 만들기\n",
    "o2 = np.ones([3,4]) # 1로 채운 배열, 4개의 요소 값을 가지는 3개의 리스트 생성\n",
    "r2 = np.random.randn(2,3) # 3개의 행 2개의 열을 가지는 랜덤한 숫자 배열\n",
    "print(z1)\n",
    "print(o2)\n",
    "print(r2)"
   ]
  },
  {
   "cell_type": "code",
   "execution_count": 10,
   "id": "c73d4227",
   "metadata": {},
   "outputs": [
    {
     "name": "stdout",
     "output_type": "stream",
     "text": [
      "(4,)\n",
      "(3, 4)\n",
      "(2, 3)\n"
     ]
    }
   ],
   "source": [
    "print(z1.shape)\n",
    "print(o2.shape)\n",
    "print(r2.shape)"
   ]
  },
  {
   "cell_type": "code",
   "execution_count": 11,
   "id": "28cba762",
   "metadata": {},
   "outputs": [
    {
     "data": {
      "text/plain": [
       "array([[[[ 0.198,  1.369,  0.826, -1.225, -0.783],\n",
       "         [ 0.499,  0.299, -1.798,  0.623,  0.434],\n",
       "         [-0.554, -0.599, -0.826,  1.658, -1.041],\n",
       "         [ 0.56 , -0.229, -1.85 ,  1.131,  0.225]],\n",
       "\n",
       "        [[-0.2  , -2.441,  1.574,  0.108,  0.054],\n",
       "         [ 0.707, -1.589, -0.248,  0.466,  0.28 ],\n",
       "         [ 0.84 , -0.141,  0.549, -0.4  ,  0.215],\n",
       "         [-0.25 ,  0.461, -1.371,  0.117, -0.44 ]]],\n",
       "\n",
       "\n",
       "       [[[ 0.073,  1.413,  0.78 ,  0.948, -0.278],\n",
       "         [-1.277,  0.589, -0.155,  0.36 ,  0.82 ],\n",
       "         [-1.489, -0.952, -1.341, -1.209, -1.054],\n",
       "         [ 0.059,  0.493, -0.864, -0.049, -0.044]],\n",
       "\n",
       "        [[-0.944,  1.69 , -0.531, -0.749, -0.505],\n",
       "         [ 1.111,  1.937, -0.176,  0.305, -1.027],\n",
       "         [-0.337, -0.901, -0.8  ,  1.476,  1.26 ],\n",
       "         [ 1.877,  1.053, -0.505,  0.459, -0.237]]]])"
      ]
     },
     "execution_count": 11,
     "metadata": {},
     "output_type": "execute_result"
    }
   ],
   "source": [
    "# 4차원 이상 생성\n",
    "r4 = np.random.randn(2,2,4,5).round(3)\n",
    "r4"
   ]
  },
  {
   "cell_type": "code",
   "execution_count": 16,
   "id": "a297ea72",
   "metadata": {},
   "outputs": [
    {
     "name": "stdout",
     "output_type": "stream",
     "text": [
      "[[ 0.073  1.413  0.78   0.948 -0.278]\n",
      " [-1.277  0.589 -0.155  0.36   0.82 ]\n",
      " [-1.489 -0.952 -1.341 -1.209 -1.054]\n",
      " [ 0.059  0.493 -0.864 -0.049 -0.044]] [-1.489 -0.952 -1.341 -1.209 -1.054] [-1.489 -0.952 -1.341 -1.209 -1.054]\n"
     ]
    }
   ],
   "source": [
    "# Indexing\n",
    "index = r4[1][0] # 두번째 배열에서 첫번째 배열 접근해서 가져오기\n",
    "index2 = r4[1][0][2] # 두번째 배열의 첫번째 배열의 두번째 배열 가져오기\n",
    "index3 = r4[1,0,2] # 이렇게도 표현가능\n",
    "print(index, index2, index3)"
   ]
  },
  {
   "cell_type": "code",
   "execution_count": 17,
   "id": "1b50a827",
   "metadata": {},
   "outputs": [
    {
     "data": {
      "text/plain": [
       "array([-1.489, -1.341])"
      ]
     },
     "execution_count": 17,
     "metadata": {},
     "output_type": "execute_result"
    }
   ],
   "source": [
    "# Slicing\n",
    "r4[1][0][2][0:4:2] # 가져오는 마지막 원소가 끝을 포함하지 않음"
   ]
  },
  {
   "cell_type": "code",
   "execution_count": 29,
   "id": "5f1bd6e2",
   "metadata": {},
   "outputs": [
    {
     "data": {
      "text/plain": [
       "array([[ 1,  2,  3,  4],\n",
       "       [10, 11, 12, 13]])"
      ]
     },
     "execution_count": 29,
     "metadata": {},
     "output_type": "execute_result"
    }
   ],
   "source": [
    "# numpy간 사칙연산\n",
    "arr = np.array([[1,2,3,4],[10,11,12,13]])\n",
    "arr"
   ]
  },
  {
   "cell_type": "code",
   "execution_count": 21,
   "id": "3b937c03",
   "metadata": {},
   "outputs": [
    {
     "name": "stdout",
     "output_type": "stream",
     "text": [
      "[[21 22 23 24]\n",
      " [30 31 32 33]] [[ 100  200  300  400]\n",
      " [1000 1100 1200 1300]]\n"
     ]
    }
   ],
   "source": [
    "# Broadcasting 연산 (Scalar)\n",
    "# numpy배열의 모든 원소에 해당 숫자 사칙 연산이 확장되어 적용\n",
    "S1 = arr + 20 # 덧셈 브로드캐스팅\n",
    "S2 = arr * 100 # 곱셈 브로드캐스팅\n",
    "print(S1,S2)"
   ]
  },
  {
   "cell_type": "code",
   "execution_count": 25,
   "id": "d2ecb44e",
   "metadata": {},
   "outputs": [
    {
     "name": "stdout",
     "output_type": "stream",
     "text": [
      "56 7.0 411840 13 1\n"
     ]
    }
   ],
   "source": [
    "# Aggregation\n",
    "A1 = arr.sum() # (모든 원소에 대해)합계\n",
    "A2 = arr.mean() # 평균\n",
    "A3 = arr.prod() # 곱셈\n",
    "A4 = arr.max() # 최댓값\n",
    "A5 = arr.min() # 최솟값\n",
    "print(A1,A2,A3,A4,A5)"
   ]
  },
  {
   "cell_type": "code",
   "execution_count": 30,
   "id": "9e7f86e6",
   "metadata": {},
   "outputs": [
    {
     "data": {
      "text/plain": [
       "(7, 3, 0)"
      ]
     },
     "execution_count": 30,
     "metadata": {},
     "output_type": "execute_result"
    }
   ],
   "source": [
    "# 배열에서의 최대인 원소의 번호, 최소인 원소의 번호\n",
    "arr.argmax(), arr[1].argmax(), arr.argmin()"
   ]
  },
  {
   "cell_type": "code",
   "execution_count": 31,
   "id": "e9a5d8bc",
   "metadata": {},
   "outputs": [
    {
     "data": {
      "text/plain": [
       "(10, 12)"
      ]
     },
     "execution_count": 31,
     "metadata": {},
     "output_type": "execute_result"
    }
   ],
   "source": [
    "# indexing + Slicing + Aggregation 응용\n",
    "arr[1].min(), arr[1][2].sum()"
   ]
  },
  {
   "cell_type": "code",
   "execution_count": 34,
   "id": "012b88b1",
   "metadata": {},
   "outputs": [
    {
     "data": {
      "text/plain": [
       "(array([11, 13, 15, 17]), array([10, 46]))"
      ]
     },
     "execution_count": 34,
     "metadata": {},
     "output_type": "execute_result"
    }
   ],
   "source": [
    "# 특정 축(차원)으로 덧셈 수행하기\n",
    "arr.sum(axis=0), arr.sum(axis=1)"
   ]
  },
  {
   "cell_type": "code",
   "execution_count": 42,
   "id": "79af6a62",
   "metadata": {},
   "outputs": [],
   "source": [
    "# Pandas\n",
    "import pandas as pd\n",
    "path = 'https://cf-courses-data.s3.us.cloud-object-storage.appdomain.cloud/IBMDeveloperSkillsNetwork-DA0101EN-SkillsNetwork/labs/Data%20files/module_5_auto.csv'\n",
    "df = pd.read_csv(path)"
   ]
  },
  {
   "cell_type": "code",
   "execution_count": 46,
   "id": "763936e8",
   "metadata": {},
   "outputs": [
    {
     "data": {
      "text/plain": [
       "RangeIndex(start=0, stop=201, step=1)"
      ]
     },
     "execution_count": 46,
     "metadata": {},
     "output_type": "execute_result"
    }
   ],
   "source": [
    "df.index"
   ]
  },
  {
   "cell_type": "code",
   "execution_count": 52,
   "id": "0b7183ab",
   "metadata": {},
   "outputs": [
    {
     "data": {
      "text/plain": [
       "Unnamed: 0.1                   0\n",
       "Unnamed: 0                     0\n",
       "symboling                      3\n",
       "normalized-losses            122\n",
       "make                 alfa-romero\n",
       "aspiration                   std\n",
       "num-of-doors                 two\n",
       "body-style           convertible\n",
       "drive-wheels                 rwd\n",
       "engine-location            front\n",
       "wheel-base                  88.6\n",
       "length                  0.811148\n",
       "width                   0.890278\n",
       "height                      48.8\n",
       "curb-weight                 2548\n",
       "engine-type                 dohc\n",
       "num-of-cylinders            four\n",
       "engine-size                  130\n",
       "fuel-system                 mpfi\n",
       "bore                        3.47\n",
       "stroke                      2.68\n",
       "compression-ratio            9.0\n",
       "horsepower                 111.0\n",
       "peak-rpm                  5000.0\n",
       "city-mpg                      21\n",
       "highway-mpg                   27\n",
       "price                    13495.0\n",
       "city-L/100km           11.190476\n",
       "horsepower-binned         Medium\n",
       "diesel                         0\n",
       "gas                            1\n",
       "Name: 0, dtype: object"
      ]
     },
     "execution_count": 52,
     "metadata": {},
     "output_type": "execute_result"
    }
   ],
   "source": [
    "df.loc[0] # 인덱스로 접근"
   ]
  },
  {
   "cell_type": "code",
   "execution_count": 53,
   "id": "e75bb429",
   "metadata": {},
   "outputs": [
    {
     "data": {
      "text/plain": [
       "Unnamed: 0.1                   0\n",
       "Unnamed: 0                     0\n",
       "symboling                      3\n",
       "normalized-losses            122\n",
       "make                 alfa-romero\n",
       "aspiration                   std\n",
       "num-of-doors                 two\n",
       "body-style           convertible\n",
       "drive-wheels                 rwd\n",
       "engine-location            front\n",
       "wheel-base                  88.6\n",
       "length                  0.811148\n",
       "width                   0.890278\n",
       "height                      48.8\n",
       "curb-weight                 2548\n",
       "engine-type                 dohc\n",
       "num-of-cylinders            four\n",
       "engine-size                  130\n",
       "fuel-system                 mpfi\n",
       "bore                        3.47\n",
       "stroke                      2.68\n",
       "compression-ratio            9.0\n",
       "horsepower                 111.0\n",
       "peak-rpm                  5000.0\n",
       "city-mpg                      21\n",
       "highway-mpg                   27\n",
       "price                    13495.0\n",
       "city-L/100km           11.190476\n",
       "horsepower-binned         Medium\n",
       "diesel                         0\n",
       "gas                            1\n",
       "Name: 0, dtype: object"
      ]
     },
     "execution_count": 53,
     "metadata": {},
     "output_type": "execute_result"
    }
   ],
   "source": [
    "df.iloc[0] # 배열 번호로 접근"
   ]
  },
  {
   "cell_type": "code",
   "execution_count": 56,
   "id": "dba9a114",
   "metadata": {},
   "outputs": [
    {
     "data": {
      "text/html": [
       "<div>\n",
       "<style scoped>\n",
       "    .dataframe tbody tr th:only-of-type {\n",
       "        vertical-align: middle;\n",
       "    }\n",
       "\n",
       "    .dataframe tbody tr th {\n",
       "        vertical-align: top;\n",
       "    }\n",
       "\n",
       "    .dataframe thead th {\n",
       "        text-align: right;\n",
       "    }\n",
       "</style>\n",
       "<table border=\"1\" class=\"dataframe\">\n",
       "  <thead>\n",
       "    <tr style=\"text-align: right;\">\n",
       "      <th></th>\n",
       "      <th>Unnamed: 0.1</th>\n",
       "      <th>Unnamed: 0</th>\n",
       "      <th>symboling</th>\n",
       "      <th>normalized-losses</th>\n",
       "      <th>make</th>\n",
       "      <th>aspiration</th>\n",
       "      <th>num-of-doors</th>\n",
       "      <th>body-style</th>\n",
       "      <th>drive-wheels</th>\n",
       "      <th>engine-location</th>\n",
       "      <th>...</th>\n",
       "      <th>compression-ratio</th>\n",
       "      <th>horsepower</th>\n",
       "      <th>peak-rpm</th>\n",
       "      <th>city-mpg</th>\n",
       "      <th>highway-mpg</th>\n",
       "      <th>price</th>\n",
       "      <th>city-L/100km</th>\n",
       "      <th>horsepower-binned</th>\n",
       "      <th>diesel</th>\n",
       "      <th>gas</th>\n",
       "    </tr>\n",
       "  </thead>\n",
       "  <tbody>\n",
       "    <tr>\n",
       "      <th>0</th>\n",
       "      <td>0</td>\n",
       "      <td>0</td>\n",
       "      <td>3</td>\n",
       "      <td>122</td>\n",
       "      <td>alfa-romero</td>\n",
       "      <td>std</td>\n",
       "      <td>two</td>\n",
       "      <td>convertible</td>\n",
       "      <td>rwd</td>\n",
       "      <td>front</td>\n",
       "      <td>...</td>\n",
       "      <td>9.0</td>\n",
       "      <td>111.0</td>\n",
       "      <td>5000.0</td>\n",
       "      <td>21</td>\n",
       "      <td>27</td>\n",
       "      <td>13495.0</td>\n",
       "      <td>11.190476</td>\n",
       "      <td>Medium</td>\n",
       "      <td>0</td>\n",
       "      <td>1</td>\n",
       "    </tr>\n",
       "    <tr>\n",
       "      <th>1</th>\n",
       "      <td>1</td>\n",
       "      <td>1</td>\n",
       "      <td>3</td>\n",
       "      <td>122</td>\n",
       "      <td>alfa-romero</td>\n",
       "      <td>std</td>\n",
       "      <td>two</td>\n",
       "      <td>convertible</td>\n",
       "      <td>rwd</td>\n",
       "      <td>front</td>\n",
       "      <td>...</td>\n",
       "      <td>9.0</td>\n",
       "      <td>111.0</td>\n",
       "      <td>5000.0</td>\n",
       "      <td>21</td>\n",
       "      <td>27</td>\n",
       "      <td>16500.0</td>\n",
       "      <td>11.190476</td>\n",
       "      <td>Medium</td>\n",
       "      <td>0</td>\n",
       "      <td>1</td>\n",
       "    </tr>\n",
       "    <tr>\n",
       "      <th>2</th>\n",
       "      <td>2</td>\n",
       "      <td>2</td>\n",
       "      <td>1</td>\n",
       "      <td>122</td>\n",
       "      <td>alfa-romero</td>\n",
       "      <td>std</td>\n",
       "      <td>two</td>\n",
       "      <td>hatchback</td>\n",
       "      <td>rwd</td>\n",
       "      <td>front</td>\n",
       "      <td>...</td>\n",
       "      <td>9.0</td>\n",
       "      <td>154.0</td>\n",
       "      <td>5000.0</td>\n",
       "      <td>19</td>\n",
       "      <td>26</td>\n",
       "      <td>16500.0</td>\n",
       "      <td>12.368421</td>\n",
       "      <td>Medium</td>\n",
       "      <td>0</td>\n",
       "      <td>1</td>\n",
       "    </tr>\n",
       "  </tbody>\n",
       "</table>\n",
       "<p>3 rows × 31 columns</p>\n",
       "</div>"
      ],
      "text/plain": [
       "   Unnamed: 0.1  Unnamed: 0  symboling  normalized-losses         make  \\\n",
       "0             0           0          3                122  alfa-romero   \n",
       "1             1           1          3                122  alfa-romero   \n",
       "2             2           2          1                122  alfa-romero   \n",
       "\n",
       "  aspiration num-of-doors   body-style drive-wheels engine-location  ...  \\\n",
       "0        std          two  convertible          rwd           front  ...   \n",
       "1        std          two  convertible          rwd           front  ...   \n",
       "2        std          two    hatchback          rwd           front  ...   \n",
       "\n",
       "   compression-ratio  horsepower  peak-rpm  city-mpg  highway-mpg    price  \\\n",
       "0                9.0       111.0    5000.0        21           27  13495.0   \n",
       "1                9.0       111.0    5000.0        21           27  16500.0   \n",
       "2                9.0       154.0    5000.0        19           26  16500.0   \n",
       "\n",
       "  city-L/100km  horsepower-binned diesel  gas  \n",
       "0    11.190476             Medium      0    1  \n",
       "1    11.190476             Medium      0    1  \n",
       "2    12.368421             Medium      0    1  \n",
       "\n",
       "[3 rows x 31 columns]"
      ]
     },
     "execution_count": 56,
     "metadata": {},
     "output_type": "execute_result"
    }
   ],
   "source": [
    "df.loc[0:2]"
   ]
  },
  {
   "cell_type": "code",
   "execution_count": 57,
   "id": "aad67cd0",
   "metadata": {},
   "outputs": [
    {
     "data": {
      "text/html": [
       "<div>\n",
       "<style scoped>\n",
       "    .dataframe tbody tr th:only-of-type {\n",
       "        vertical-align: middle;\n",
       "    }\n",
       "\n",
       "    .dataframe tbody tr th {\n",
       "        vertical-align: top;\n",
       "    }\n",
       "\n",
       "    .dataframe thead th {\n",
       "        text-align: right;\n",
       "    }\n",
       "</style>\n",
       "<table border=\"1\" class=\"dataframe\">\n",
       "  <thead>\n",
       "    <tr style=\"text-align: right;\">\n",
       "      <th></th>\n",
       "      <th>Unnamed: 0.1</th>\n",
       "      <th>Unnamed: 0</th>\n",
       "      <th>symboling</th>\n",
       "      <th>normalized-losses</th>\n",
       "      <th>make</th>\n",
       "      <th>aspiration</th>\n",
       "      <th>num-of-doors</th>\n",
       "      <th>body-style</th>\n",
       "      <th>drive-wheels</th>\n",
       "      <th>engine-location</th>\n",
       "      <th>...</th>\n",
       "      <th>compression-ratio</th>\n",
       "      <th>horsepower</th>\n",
       "      <th>peak-rpm</th>\n",
       "      <th>city-mpg</th>\n",
       "      <th>highway-mpg</th>\n",
       "      <th>price</th>\n",
       "      <th>city-L/100km</th>\n",
       "      <th>horsepower-binned</th>\n",
       "      <th>diesel</th>\n",
       "      <th>gas</th>\n",
       "    </tr>\n",
       "  </thead>\n",
       "  <tbody>\n",
       "    <tr>\n",
       "      <th>0</th>\n",
       "      <td>0</td>\n",
       "      <td>0</td>\n",
       "      <td>3</td>\n",
       "      <td>122</td>\n",
       "      <td>alfa-romero</td>\n",
       "      <td>std</td>\n",
       "      <td>two</td>\n",
       "      <td>convertible</td>\n",
       "      <td>rwd</td>\n",
       "      <td>front</td>\n",
       "      <td>...</td>\n",
       "      <td>9.0</td>\n",
       "      <td>111.0</td>\n",
       "      <td>5000.0</td>\n",
       "      <td>21</td>\n",
       "      <td>27</td>\n",
       "      <td>13495.0</td>\n",
       "      <td>11.190476</td>\n",
       "      <td>Medium</td>\n",
       "      <td>0</td>\n",
       "      <td>1</td>\n",
       "    </tr>\n",
       "    <tr>\n",
       "      <th>1</th>\n",
       "      <td>1</td>\n",
       "      <td>1</td>\n",
       "      <td>3</td>\n",
       "      <td>122</td>\n",
       "      <td>alfa-romero</td>\n",
       "      <td>std</td>\n",
       "      <td>two</td>\n",
       "      <td>convertible</td>\n",
       "      <td>rwd</td>\n",
       "      <td>front</td>\n",
       "      <td>...</td>\n",
       "      <td>9.0</td>\n",
       "      <td>111.0</td>\n",
       "      <td>5000.0</td>\n",
       "      <td>21</td>\n",
       "      <td>27</td>\n",
       "      <td>16500.0</td>\n",
       "      <td>11.190476</td>\n",
       "      <td>Medium</td>\n",
       "      <td>0</td>\n",
       "      <td>1</td>\n",
       "    </tr>\n",
       "  </tbody>\n",
       "</table>\n",
       "<p>2 rows × 31 columns</p>\n",
       "</div>"
      ],
      "text/plain": [
       "   Unnamed: 0.1  Unnamed: 0  symboling  normalized-losses         make  \\\n",
       "0             0           0          3                122  alfa-romero   \n",
       "1             1           1          3                122  alfa-romero   \n",
       "\n",
       "  aspiration num-of-doors   body-style drive-wheels engine-location  ...  \\\n",
       "0        std          two  convertible          rwd           front  ...   \n",
       "1        std          two  convertible          rwd           front  ...   \n",
       "\n",
       "   compression-ratio  horsepower  peak-rpm  city-mpg  highway-mpg    price  \\\n",
       "0                9.0       111.0    5000.0        21           27  13495.0   \n",
       "1                9.0       111.0    5000.0        21           27  16500.0   \n",
       "\n",
       "  city-L/100km  horsepower-binned diesel  gas  \n",
       "0    11.190476             Medium      0    1  \n",
       "1    11.190476             Medium      0    1  \n",
       "\n",
       "[2 rows x 31 columns]"
      ]
     },
     "execution_count": 57,
     "metadata": {},
     "output_type": "execute_result"
    }
   ],
   "source": [
    "df.iloc[0:2] # 끝 포함 안함"
   ]
  },
  {
   "cell_type": "code",
   "execution_count": 64,
   "id": "a22d5494",
   "metadata": {},
   "outputs": [
    {
     "data": {
      "text/plain": [
       "Unnamed: 0.1           int64\n",
       "Unnamed: 0             int64\n",
       "symboling              int64\n",
       "normalized-losses      int64\n",
       "make                  object\n",
       "aspiration            object\n",
       "num-of-doors          object\n",
       "body-style            object\n",
       "drive-wheels          object\n",
       "engine-location       object\n",
       "wheel-base           float64\n",
       "length               float64\n",
       "width                float64\n",
       "height               float64\n",
       "curb-weight            int64\n",
       "engine-type           object\n",
       "num-of-cylinders      object\n",
       "engine-size            int64\n",
       "fuel-system           object\n",
       "bore                 float64\n",
       "stroke               float64\n",
       "compression-ratio    float64\n",
       "horsepower           float64\n",
       "peak-rpm             float64\n",
       "city-mpg               int64\n",
       "highway-mpg            int64\n",
       "price                float64\n",
       "city-L/100km         float64\n",
       "horsepower-binned     object\n",
       "diesel                 int64\n",
       "gas                    int64\n",
       "dtype: object"
      ]
     },
     "execution_count": 64,
     "metadata": {},
     "output_type": "execute_result"
    }
   ],
   "source": [
    "df.dtypes"
   ]
  },
  {
   "cell_type": "code",
   "execution_count": 65,
   "id": "04e0708a",
   "metadata": {},
   "outputs": [
    {
     "data": {
      "text/plain": [
       "0      3\n",
       "1      3\n",
       "2      1\n",
       "3      2\n",
       "4      2\n",
       "      ..\n",
       "196   -1\n",
       "197   -1\n",
       "198   -1\n",
       "199   -1\n",
       "200   -1\n",
       "Name: symboling, Length: 201, dtype: int64"
      ]
     },
     "execution_count": 65,
     "metadata": {},
     "output_type": "execute_result"
    }
   ],
   "source": [
    "# ::으로 모든 원소 지칭\n",
    "df.loc[::, 'symboling']"
   ]
  },
  {
   "cell_type": "code",
   "execution_count": 66,
   "id": "1348b80e",
   "metadata": {},
   "outputs": [
    {
     "data": {
      "text/plain": [
       "Unnamed: 0.1                 5\n",
       "Unnamed: 0                   5\n",
       "symboling                    2\n",
       "normalized-losses          122\n",
       "make                      audi\n",
       "aspiration                 std\n",
       "num-of-doors               two\n",
       "body-style               sedan\n",
       "drive-wheels               fwd\n",
       "engine-location          front\n",
       "wheel-base                99.8\n",
       "length                0.851994\n",
       "width                 0.920833\n",
       "height                    53.1\n",
       "curb-weight               2507\n",
       "engine-type                ohc\n",
       "num-of-cylinders          five\n",
       "engine-size                136\n",
       "fuel-system               mpfi\n",
       "bore                      3.19\n",
       "stroke                     3.4\n",
       "compression-ratio          8.5\n",
       "horsepower               110.0\n",
       "peak-rpm                5500.0\n",
       "city-mpg                    19\n",
       "highway-mpg                 25\n",
       "price                  15250.0\n",
       "city-L/100km         12.368421\n",
       "horsepower-binned       Medium\n",
       "diesel                       0\n",
       "gas                          1\n",
       "Name: 5, dtype: object"
      ]
     },
     "execution_count": 66,
     "metadata": {},
     "output_type": "execute_result"
    }
   ],
   "source": [
    "# : 한번만 사용 가능\n",
    "df.iloc[5, :]"
   ]
  },
  {
   "cell_type": "code",
   "execution_count": 67,
   "id": "942d5704",
   "metadata": {},
   "outputs": [
    {
     "data": {
      "text/plain": [
       "(31,)"
      ]
     },
     "execution_count": 67,
     "metadata": {},
     "output_type": "execute_result"
    }
   ],
   "source": [
    "df.iloc[0, :].shape"
   ]
  },
  {
   "cell_type": "code",
   "execution_count": null,
   "id": "be29e5a7",
   "metadata": {},
   "outputs": [],
   "source": []
  }
 ],
 "metadata": {
  "kernelspec": {
   "display_name": "Python 3 (ipykernel)",
   "language": "python",
   "name": "python3"
  },
  "language_info": {
   "codemirror_mode": {
    "name": "ipython",
    "version": 3
   },
   "file_extension": ".py",
   "mimetype": "text/x-python",
   "name": "python",
   "nbconvert_exporter": "python",
   "pygments_lexer": "ipython3",
   "version": "3.8.13"
  }
 },
 "nbformat": 4,
 "nbformat_minor": 5
}
