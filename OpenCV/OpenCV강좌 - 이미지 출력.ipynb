{
 "cells": [
  {
   "cell_type": "code",
   "execution_count": 6,
   "id": "ffe2c1df",
   "metadata": {},
   "outputs": [
    {
     "name": "stdout",
     "output_type": "stream",
     "text": [
      "1280 1920 3\n"
     ]
    }
   ],
   "source": [
    "import cv2\n",
    "\n",
    "image = cv2.imread(\"lunar.webp\", cv2.IMREAD_ANYCOLOR) # 상대 경로의 이미지 파일 읽어오기\n",
    "cv2.imshow(\"Moon\", image) # 이미지 표시 함수\n",
    "cv2.waitKey() # 키 입력 대기 함수로 이미지 띄우기\n",
    "cv2.destroyAllWindows() # 윈도우 창 제거 함수\n",
    "height, width, channel = image.shape # 이미지의 높이, 너비, 채널의 값 확인하기\n",
    "print(height, width, channel)"
   ]
  },
  {
   "cell_type": "code",
   "execution_count": null,
   "id": "38e14dbe",
   "metadata": {},
   "outputs": [],
   "source": []
  }
 ],
 "metadata": {
  "kernelspec": {
   "display_name": "Python 3 (ipykernel)",
   "language": "python",
   "name": "python3"
  },
  "language_info": {
   "codemirror_mode": {
    "name": "ipython",
    "version": 3
   },
   "file_extension": ".py",
   "mimetype": "text/x-python",
   "name": "python",
   "nbconvert_exporter": "python",
   "pygments_lexer": "ipython3",
   "version": "3.8.13"
  }
 },
 "nbformat": 4,
 "nbformat_minor": 5
}
