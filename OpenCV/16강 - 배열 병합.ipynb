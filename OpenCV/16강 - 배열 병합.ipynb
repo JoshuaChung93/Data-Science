{
 "cells": [
  {
   "cell_type": "code",
   "execution_count": 1,
   "id": "a6d493cc",
   "metadata": {},
   "outputs": [],
   "source": [
    "import cv2\n",
    "src = cv2.imread(\"tomato.webp\", cv2.IMREAD_COLOR)\n",
    "hsv = cv2.cvtColor(src, cv2.COLOR_BGR2HSV)\n",
    "h, s, v = cv2.split(hsv)\n",
    "\n",
    "lower_red = cv2.inRange(hsv, (0, 100, 100), (5, 255, 255)) # 하위 빨간색 영역 설정\n",
    "upper_red = cv2.inRange(hsv, (170, 100, 100), (180, 255, 255)) # 상위 빨간색 영역 설정\n",
    "added_red = cv2.addWeighted(lower_red, 1.0, upper_red, 1.0, 0.0) # 하위+상위 합체\n",
    "\n",
    "red = cv2.bitwise_and(hsv, hsv, mask = added_red)\n",
    "red = cv2.cvtColor(red, cv2.COLOR_HSV2BGR)\n",
    "\n",
    "cv2.imshow(\"red\", red)\n",
    "cv2.waitKey()\n",
    "cv2.destroyAllWindows()"
   ]
  },
  {
   "cell_type": "code",
   "execution_count": 2,
   "id": "827d8edc",
   "metadata": {},
   "outputs": [],
   "source": [
    "# 초록색만 추출\n",
    "import cv2\n",
    "src = cv2.imread(\"tomato.webp\", cv2.IMREAD_COLOR)\n",
    "hsv = cv2.cvtColor(src, cv2.COLOR_BGR2HSV)\n",
    "h, s, v = cv2.split(hsv)\n",
    "\n",
    "greenrange = cv2.inRange(hsv, (36, 25, 25), (70, 255,255)) # 초록색 영역 설정\n",
    "\n",
    "green = cv2.bitwise_and(hsv, hsv, mask = greenrange)\n",
    "green = cv2.cvtColor(green, cv2.COLOR_HSV2BGR)\n",
    "\n",
    "cv2.imshow(\"green\", green)\n",
    "cv2.waitKey()\n",
    "cv2.destroyAllWindows()"
   ]
  },
  {
   "cell_type": "code",
   "execution_count": null,
   "id": "bfb638b2",
   "metadata": {},
   "outputs": [],
   "source": []
  }
 ],
 "metadata": {
  "kernelspec": {
   "display_name": "Python 3 (ipykernel)",
   "language": "python",
   "name": "python3"
  },
  "language_info": {
   "codemirror_mode": {
    "name": "ipython",
    "version": 3
   },
   "file_extension": ".py",
   "mimetype": "text/x-python",
   "name": "python",
   "nbconvert_exporter": "python",
   "pygments_lexer": "ipython3",
   "version": "3.8.13"
  }
 },
 "nbformat": 4,
 "nbformat_minor": 5
}
