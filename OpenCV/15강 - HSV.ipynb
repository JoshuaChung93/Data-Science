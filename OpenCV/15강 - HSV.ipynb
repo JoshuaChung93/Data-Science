{
 "cells": [
  {
   "cell_type": "code",
   "execution_count": 1,
   "id": "4f1c7090",
   "metadata": {},
   "outputs": [],
   "source": [
    "import cv2\n",
    "\n",
    "src = cv2.imread(\"tomato.webp\", cv2.IMREAD_COLOR)\n",
    "hsv = cv2.cvtColor(src, cv2.COLOR_BGR2HSV) # 색상 공간 변환 함수 \"cv2.cvtColor(입력 이미지, 색상 변환 코드)\n",
    "h, s, v = cv2.split(hsv) # 채널 분리 함수\n",
    "\n",
    "cv2.imshow(\"h\", h)\n",
    "cv2.imshow(\"s\", s)\n",
    "cv2.imshow(\"v\", v)\n",
    "cv2.waitKey()\n",
    "cv2.destroyAllWindows()"
   ]
  },
  {
   "cell_type": "code",
   "execution_count": 16,
   "id": "6fea86a3",
   "metadata": {},
   "outputs": [],
   "source": [
    "import cv2\n",
    "src = cv2.imread(\"tomato.webp\", cv2.IMREAD_COLOR)\n",
    "hsv = cv2.cvtColor(src, cv2.COLOR_BGR2HSV)\n",
    "h, s, v = cv2.split(hsv)\n",
    "\n",
    "h = cv2.inRange(h, 40, 80) # 입력된 배열의 특정 범위 영역만 추출, 초록색은 81~140\n",
    "green = cv2.bitwise_and(hsv, hsv, mask = h) # 비트 연산으로 마스크 덧씌우기, 마스크 영역만 AND연산을 진행\n",
    "green = cv2.cvtColor(green, cv2.COLOR_HSV2BGR) # HSV색상 공간에서 BGR색상 공간으로 변경\n",
    "\n",
    "cv2.imshow(\"green\", green)\n",
    "cv2.waitKey()\n",
    "cv2.destroyAllWindows()"
   ]
  },
  {
   "cell_type": "code",
   "execution_count": null,
   "id": "50f7cc21",
   "metadata": {},
   "outputs": [],
   "source": []
  }
 ],
 "metadata": {
  "kernelspec": {
   "display_name": "Python 3 (ipykernel)",
   "language": "python",
   "name": "python3"
  },
  "language_info": {
   "codemirror_mode": {
    "name": "ipython",
    "version": 3
   },
   "file_extension": ".py",
   "mimetype": "text/x-python",
   "name": "python",
   "nbconvert_exporter": "python",
   "pygments_lexer": "ipython3",
   "version": "3.8.13"
  }
 },
 "nbformat": 4,
 "nbformat_minor": 5
}
