{
 "cells": [
  {
   "cell_type": "code",
   "execution_count": 5,
   "id": "6a1e100b",
   "metadata": {},
   "outputs": [],
   "source": [
    "import cv2\n",
    "\n",
    "src = cv2.imread(\"fruits.webp\", cv2.IMREAD_COLOR)\n",
    "height, width, channel = src.shape # 높이, 너비, 채널의 값 저장\n",
    "\n",
    "dst = cv2.pyrUp(src, dstsize=(width * 2, height * 2), borderType=cv2.BORDER_DEFAULT) # cv2.pyrUp 는 이미지 확대 함수, 이미지 2배 확대, borderType은 테두리 외삽법으로 이미지 확대나 축소 시에 이미지 영역 밖의 픽셀을 추정해 값을 할당\n",
    "dst2 = cv2.pyrDown(src) # 이미지 확대 함수. 축소시엔 cv2.pyrUp\n",
    "\n",
    "cv2.imshow(\"src\", src)\n",
    "cv2.imshow(\"dst\", dst)\n",
    "cv2.imshow(\"dst2\", dst2)\n",
    "cv2.waitKey()\n",
    "cv2.destroyAllWindows()"
   ]
  },
  {
   "cell_type": "code",
   "execution_count": null,
   "id": "fac04315",
   "metadata": {},
   "outputs": [],
   "source": []
  }
 ],
 "metadata": {
  "kernelspec": {
   "display_name": "Python 3 (ipykernel)",
   "language": "python",
   "name": "python3"
  },
  "language_info": {
   "codemirror_mode": {
    "name": "ipython",
    "version": 3
   },
   "file_extension": ".py",
   "mimetype": "text/x-python",
   "name": "python",
   "nbconvert_exporter": "python",
   "pygments_lexer": "ipython3",
   "version": "3.8.13"
  }
 },
 "nbformat": 4,
 "nbformat_minor": 5
}
