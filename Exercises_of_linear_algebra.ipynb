{
  "nbformat": 4,
  "nbformat_minor": 0,
  "metadata": {
    "colab": {
      "provenance": [],
      "authorship_tag": "ABX9TyNcnOCT7Slmod0hXiDgVbOT",
      "include_colab_link": true
    },
    "kernelspec": {
      "name": "python3",
      "display_name": "Python 3"
    },
    "language_info": {
      "name": "python"
    }
  },
  "cells": [
    {
      "cell_type": "markdown",
      "metadata": {
        "id": "view-in-github",
        "colab_type": "text"
      },
      "source": [
        "<a href=\"https://colab.research.google.com/github/JoshuaChung93/Data-Science/blob/main/Exercises_of_linear_algebra.ipynb\" target=\"_parent\"><img src=\"https://colab.research.google.com/assets/colab-badge.svg\" alt=\"Open In Colab\"/></a>"
      ]
    },
    {
      "cell_type": "code",
      "execution_count": 2,
      "metadata": {
        "id": "G9hmYUKANiO-"
      },
      "outputs": [],
      "source": [
        "import numpy as np\n",
        "import matplotlib.pyplot as plt\n",
        "import torch\n",
        "import tensorflow"
      ]
    },
    {
      "cell_type": "markdown",
      "source": [
        "# Vector transposition"
      ],
      "metadata": {
        "id": "AKFvUJTeOiqm"
      }
    },
    {
      "cell_type": "code",
      "source": [
        "x = np.array([[25,2,-3,-23]],dtype=int)"
      ],
      "metadata": {
        "id": "BdM0X33_Nq9_"
      },
      "execution_count": 8,
      "outputs": []
    },
    {
      "cell_type": "code",
      "source": [
        "x.shape"
      ],
      "metadata": {
        "colab": {
          "base_uri": "https://localhost:8080/"
        },
        "id": "3TnYKUQyOd-T",
        "outputId": "1f1a36e5-cee2-4549-aa50-632eed5f0af8"
      },
      "execution_count": 10,
      "outputs": [
        {
          "output_type": "execute_result",
          "data": {
            "text/plain": [
              "(1, 4)"
            ]
          },
          "metadata": {},
          "execution_count": 10
        }
      ]
    },
    {
      "cell_type": "code",
      "source": [
        "x_t = x.T\n",
        "x_t"
      ],
      "metadata": {
        "colab": {
          "base_uri": "https://localhost:8080/"
        },
        "id": "-xsyIOISOJdQ",
        "outputId": "acea3ff8-a877-4ed1-f8d4-85ed136838f3"
      },
      "execution_count": 11,
      "outputs": [
        {
          "output_type": "execute_result",
          "data": {
            "text/plain": [
              "array([[ 25],\n",
              "       [  2],\n",
              "       [ -3],\n",
              "       [-23]])"
            ]
          },
          "metadata": {},
          "execution_count": 11
        }
      ]
    },
    {
      "cell_type": "code",
      "source": [
        "x_t.shape"
      ],
      "metadata": {
        "colab": {
          "base_uri": "https://localhost:8080/"
        },
        "id": "nUC64tivOT2p",
        "outputId": "ff9e2134-e29b-40ed-b80f-c2394311ed4d"
      },
      "execution_count": 12,
      "outputs": [
        {
          "output_type": "execute_result",
          "data": {
            "text/plain": [
              "(4, 1)"
            ]
          },
          "metadata": {},
          "execution_count": 12
        }
      ]
    },
    {
      "cell_type": "markdown",
      "source": [
        "# What are the dimensions of this matrix Y?"
      ],
      "metadata": {
        "id": "Lsi-GZToOne_"
      }
    },
    {
      "cell_type": "code",
      "source": [
        "Y = np.array([[42,4,7,99],[-99,-3,17,22]])"
      ],
      "metadata": {
        "id": "AnjG-1VEOXPM"
      },
      "execution_count": 14,
      "outputs": []
    },
    {
      "cell_type": "code",
      "source": [
        "Y.shape"
      ],
      "metadata": {
        "colab": {
          "base_uri": "https://localhost:8080/"
        },
        "id": "k0jHt2wTO1UG",
        "outputId": "0991c269-2ad8-4443-b2ce-71b9ef5553b0"
      },
      "execution_count": 15,
      "outputs": [
        {
          "output_type": "execute_result",
          "data": {
            "text/plain": [
              "(2, 4)"
            ]
          },
          "metadata": {},
          "execution_count": 15
        }
      ]
    },
    {
      "cell_type": "markdown",
      "source": [
        "# What is the position of the element in this matrix Y with the value of 17?"
      ],
      "metadata": {
        "id": "oLO05VCjPCyr"
      }
    },
    {
      "cell_type": "code",
      "source": [
        "Y_pt = torch.tensor([[42,4,7,99],[-99,-3,17,22]])"
      ],
      "metadata": {
        "id": "Dd4Y5CLtO40f"
      },
      "execution_count": 22,
      "outputs": []
    },
    {
      "cell_type": "code",
      "source": [
        "Y_pt"
      ],
      "metadata": {
        "colab": {
          "base_uri": "https://localhost:8080/"
        },
        "id": "DWBAZHg7PcGd",
        "outputId": "be5b21c6-4c6a-425a-ead7-f2ac717fa35d"
      },
      "execution_count": 25,
      "outputs": [
        {
          "output_type": "execute_result",
          "data": {
            "text/plain": [
              "tensor([[ 42,   4,   7,  99],\n",
              "        [-99,  -3,  17,  22]])"
            ]
          },
          "metadata": {},
          "execution_count": 25
        }
      ]
    },
    {
      "cell_type": "code",
      "source": [
        "Y_pt[1,2]"
      ],
      "metadata": {
        "colab": {
          "base_uri": "https://localhost:8080/"
        },
        "id": "BUfHELR0Pfrg",
        "outputId": "72ed9f40-4758-4e69-beaf-a63f1e6a6a8b"
      },
      "execution_count": 29,
      "outputs": [
        {
          "output_type": "execute_result",
          "data": {
            "text/plain": [
              "tensor(17)"
            ]
          },
          "metadata": {},
          "execution_count": 29
        }
      ]
    },
    {
      "cell_type": "code",
      "source": [],
      "metadata": {
        "id": "tUCMqaY4P5MQ"
      },
      "execution_count": null,
      "outputs": []
    }
  ]
}